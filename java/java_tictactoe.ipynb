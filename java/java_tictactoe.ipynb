{
 "cells": [
  {
   "cell_type": "code",
   "execution_count": null,
   "metadata": {},
   "outputs": [],
   "source": [
    "  // stage 1\n",
    "//// https://hyperskill.org/projects/48/stages/255/implement\n",
    "package tictactoe;\n",
    "\n",
    "public class Main {\n",
    "    public static void main(String[] args) {\n",
    "        // write your code here\n",
    "        \n",
    "        char player = 'X';\n",
    "        \n",
    "        for (int i = 0; i <= 2; i++) {\n",
    "            for (int j = 0; j <= 2; j++) {\n",
    "                System.out.print(player + \" \");\n",
    "                \n",
    "                player = player == 'X' ? 'O' : 'X';\n",
    "            }\n",
    "            \n",
    "            System.out.println();\n",
    "        }\n",
    "    }\n",
    "}"
   ]
  },
  {
   "cell_type": "code",
   "execution_count": null,
   "metadata": {},
   "outputs": [],
   "source": [
    "  // stage 2\n",
    "//// https://hyperskill.org/projects/48/stages/256/implement\n",
    "\n",
    "package tictactoe;\n",
    "\n",
    "import java.util.Scanner;\n",
    "\n",
    "public class Main {\n",
    "    public static void main(String[] args) {\n",
    "        // write your code here\n",
    "        Scanner scan = new Scanner(System.in);\n",
    "        \n",
    "        String playerInput = scan.nextLine();\n",
    "        int sequence = 0;\n",
    "        char element;\n",
    "        \n",
    "        System.out.println(\"---------\");\n",
    "        \n",
    "        for (int i = 0; i <= 2; i++) {\n",
    "            System.out.print(\"| \");\n",
    "            \n",
    "            for (int j = 0; j <= 2; j++) {\n",
    "                element = playerInput.charAt(sequence);\n",
    "                System.out.print(element + \" \");\n",
    "                sequence++;\n",
    "            }\n",
    "            \n",
    "            System.out.print(\"|\");\n",
    "            System.out.println();\n",
    "        }\n",
    "        \n",
    "        System.out.println(\"---------\");\n",
    "        \n",
    "    }\n",
    "}"
   ]
  },
  {
   "cell_type": "code",
   "execution_count": null,
   "metadata": {},
   "outputs": [],
   "source": []
  },
  {
   "cell_type": "code",
   "execution_count": null,
   "metadata": {},
   "outputs": [],
   "source": []
  }
 ],
 "metadata": {
  "kernelspec": {
   "display_name": "Java",
   "language": "java",
   "name": "java"
  },
  "language_info": {
   "codemirror_mode": "java",
   "file_extension": ".jshell",
   "mimetype": "text/x-java-source",
   "name": "Java",
   "pygments_lexer": "java",
   "version": "11.0.9+11-Ubuntu-0ubuntu1.18.04.1"
  }
 },
 "nbformat": 4,
 "nbformat_minor": 4
}
