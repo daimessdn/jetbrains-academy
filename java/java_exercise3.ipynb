{
 "cells": [
  {
   "cell_type": "code",
   "execution_count": 2,
   "metadata": {},
   "outputs": [
    {
     "name": "stdout",
     "output_type": "stream",
     "text": [
      "hello\n",
      "true\n",
      "false\n",
      "true\n",
      "true\n",
      "true\n"
     ]
    }
   ],
   "source": [
    "String hello = \"hello\";\n",
    "String hello2 = hello;\n",
    "\n",
    "String hello3 = new String(\"hello\");\n",
    "String hello4 = hello3;\n",
    "\n",
    "System.out.println(hello2);\n",
    "System.out.println(hello == hello2);\n",
    "System.out.println(hello4 == hello2);\n",
    "System.out.println(hello3 == hello4);\n",
    "\n",
    "System.out.println(hello.equals(hello3));\n",
    "System.out.println(hello2.equals(hello4));"
   ]
  },
  {
   "cell_type": "code",
   "execution_count": 3,
   "metadata": {},
   "outputs": [
    {
     "ename": "CompilationException",
     "evalue": "",
     "output_type": "error",
     "traceback": [
      "\u001b[1m\u001b[30m|   \u001b[1m\u001b[30mint a = \u001b[0m\u001b[1m\u001b[30m\u001b[41mnull\u001b[0m\u001b[1m\u001b[30m;\u001b[0m",
      "\u001b[1m\u001b[31mincompatible types: <nulltype> cannot be converted to int\u001b[0m",
      ""
     ]
    }
   ],
   "source": [
    "int a = null;"
   ]
  },
  {
   "cell_type": "code",
   "execution_count": 5,
   "metadata": {},
   "outputs": [
    {
     "name": "stdin",
     "output_type": "stream",
     "text": [
      " 4 16 7\n"
     ]
    },
    {
     "name": "stdout",
     "output_type": "stream",
     "text": [
      "true\n"
     ]
    }
   ],
   "source": [
    "  // problem of the day\n",
    "//// check the sum\n",
    "//// https://hyperskill.org/learn/daily/2275#comment\n",
    "\n",
    "import java.util.Scanner;\n",
    "Scanner scanner = new Scanner(System.in);\n",
    "\n",
    "// put your code here\n",
    "int num1 = scanner.nextInt();\n",
    "int num2 = scanner.nextInt();\n",
    "int num3 = scanner.nextInt();\n",
    "\n",
    "boolean result = num1 + num2 == 20 || num2 + num3 == 20 || num1 + num3 == 20;\n",
    "System.out.println(result);"
   ]
  },
  {
   "cell_type": "code",
   "execution_count": null,
   "metadata": {},
   "outputs": [],
   "source": []
  }
 ],
 "metadata": {
  "kernelspec": {
   "display_name": "Java",
   "language": "java",
   "name": "java"
  },
  "language_info": {
   "codemirror_mode": "java",
   "file_extension": ".jshell",
   "mimetype": "text/x-java-source",
   "name": "Java",
   "pygments_lexer": "java",
   "version": "11.0.9+11-Ubuntu-0ubuntu1.18.04.1"
  }
 },
 "nbformat": 4,
 "nbformat_minor": 4
}
