{
 "cells": [
  {
   "cell_type": "code",
   "execution_count": 3,
   "metadata": {},
   "outputs": [],
   "source": [
    "import java.util.Scanner;\n",
    "\n",
    "class Main {\n",
    "    public static void main(String[] args) {\n",
    "        Scanner scanner = new Scanner(System.in);\n",
    "        // put your code here\n",
    "        int hour1 = scanner.nextInt();\n",
    "        int min1 = scanner.nextInt();\n",
    "        int sec1 = scanner.nextInt();\n",
    "        \n",
    "        int hour2 = scanner.nextInt();\n",
    "        int min2 = scanner.nextInt();\n",
    "        int sec2 = scanner.nextInt();\n",
    "        \n",
    "        System.out.println(3600 * (hour2 - hour1) + 60 * (min2 - min1) + (sec2 - sec1));\n",
    "    }\n",
    "}"
   ]
  },
  {
   "cell_type": "code",
   "execution_count": 4,
   "metadata": {},
   "outputs": [],
   "source": [
    "import java.util.Scanner;\n",
    "\n",
    "class Main {\n",
    "    public static void main(String[] args) {\n",
    "        Scanner scanner = new Scanner(System.in);\n",
    "        // put your code here\n",
    "        int num1 = scanner.nextInt();\n",
    "        int num2 = scanner.nextInt();\n",
    "        \n",
    "        System.out.println(num2 + \" \" + num1);\n",
    "    }\n",
    "}"
   ]
  },
  {
   "cell_type": "code",
   "execution_count": 5,
   "metadata": {},
   "outputs": [],
   "source": [
    "import java.util.Scanner;\n",
    "\n",
    "class Main {\n",
    "    public static void main(String[] args) {\n",
    "        Scanner scanner = new Scanner(System.in);\n",
    "        // put your code here\n",
    "        int group1 = scanner.nextInt();\n",
    "        int group2 = scanner.nextInt();\n",
    "        int group3 = scanner.nextInt();\n",
    "        \n",
    "        System.out.println((group1 + (group1 % 2) + group2 + (group2 % 2) + group3 + (group3 % 2)) / 2);\n",
    "    }\n",
    "}\n"
   ]
  },
  {
   "cell_type": "code",
   "execution_count": 6,
   "metadata": {},
   "outputs": [],
   "source": [
    "import java.util.Scanner;\n",
    "\n",
    "class Main {\n",
    "    public static void main(String[] args) {\n",
    "        Scanner scanner = new Scanner(System.in);\n",
    "        // put your code here\n",
    "        int num1 = scanner.nextInt();\n",
    "        int num2 = scanner.nextInt();\n",
    "        int num3 = scanner.nextInt();\n",
    "        \n",
    "        boolean descending = num1 >= num2 && num2 >= num3;\n",
    "        boolean ascending = num1 <= num2 && num2 <= num3;\n",
    "        \n",
    "        System.out.println(ascending || descending);\n",
    "    }\n",
    "}"
   ]
  },
  {
   "cell_type": "code",
   "execution_count": 7,
   "metadata": {},
   "outputs": [
    {
     "data": {
      "text/plain": [
       "299"
      ]
     },
     "execution_count": 7,
     "metadata": {},
     "output_type": "execute_result"
    }
   ],
   "source": [
    "int a = 300;\n",
    "int b = a++;\n",
    "int c = --b;\n",
    "\n",
    "c"
   ]
  },
  {
   "cell_type": "code",
   "execution_count": 8,
   "metadata": {},
   "outputs": [],
   "source": [
    "import java.util.Scanner;\n",
    "\n",
    "class Main {\n",
    "    public static void main(String[] args) {\n",
    "        Scanner scanner = new Scanner(System.in);\n",
    "        // put your code here\n",
    "        int num1 = scanner.nextInt();\n",
    "        int num2 = scanner.nextInt();\n",
    "        int num3 = scanner.nextInt();\n",
    "        int num4 = scanner.nextInt();\n",
    "        \n",
    "        System.out.println(--num1 + \" \" + --num2 + \" \" + --num3 + \" \" + --num4);\n",
    "    }\n",
    "}"
   ]
  },
  {
   "cell_type": "code",
   "execution_count": 9,
   "metadata": {},
   "outputs": [
    {
     "name": "stdout",
     "output_type": "stream",
     "text": [
      "112"
     ]
    }
   ],
   "source": [
    "int n = 0;\n",
    "System.out.print(++n);\n",
    "System.out.print(n++);\n",
    "System.out.print(n++);"
   ]
  },
  {
   "cell_type": "code",
   "execution_count": 10,
   "metadata": {},
   "outputs": [
    {
     "name": "stdout",
     "output_type": "stream",
     "text": [
      "d\n"
     ]
    }
   ],
   "source": [
    "char c = '1' + '3';\n",
    "System.out.println(c);"
   ]
  },
  {
   "cell_type": "code",
   "execution_count": null,
   "metadata": {},
   "outputs": [],
   "source": [
    "import java.util.Scanner;\n",
    "\n",
    "class Main {\n",
    "    public static void main(String[] args) {\n",
    "        // put your code here\n",
    "        Scanner scanner = new Scanner(System.in);\n",
    "        \n",
    "        int armyUnit = scanner.nextInt();\n",
    "        \n",
    "        if (armyUnit < 1) {\n",
    "            System.out.println(\"no army\");\n",
    "        } else if (armyUnit >= 1 && armyUnit <= 19) {\n",
    "            System.out.println(\"pack\");\n",
    "        } else if (armyUnit >= 20 && armyUnit <= 249) {\n",
    "            System.out.println(\"pack\");\n",
    "        } else if (armyUnit >= 250 && armyUnit <= 999) {\n",
    "            System.out.println(\"zounds\");\n",
    "        } else {\n",
    "            System.out.println(\"legion\");\n",
    "        }\n",
    "    }\n",
    "}\n"
   ]
  },
  {
   "cell_type": "code",
   "execution_count": null,
   "metadata": {},
   "outputs": [],
   "source": [
    "import java.util.Scanner;\n",
    "\n",
    "class Main {\n",
    "    public static void main(String[] args) {\n",
    "        // put your code here\n",
    "        Scanner scanner = new Scanner(System.in);\n",
    "\n",
    "        int num1 = scanner.nextInt();\n",
    "\n",
    "        int digit1 = num1 / 1000;\n",
    "        int digit2 = num1 / 100 % 10;\n",
    "        int digit3 = num1 / 10 % 10;\n",
    "        int digit4 = num1 % 10;\n",
    "        \n",
    "        if (digit1 == digit4 && digit2 == digit3) {\n",
    "            System.out.println(1);\n",
    "        } else {\n",
    "            System.out.println(37);\n",
    "        }\n",
    "    }\n",
    "}"
   ]
  },
  {
   "cell_type": "code",
   "execution_count": 11,
   "metadata": {},
   "outputs": [],
   "source": [
    "import java.util.Scanner;\n",
    "\n",
    "class Main {\n",
    "    public static void main(String[] args) {\n",
    "        // put your code here\n",
    "        Scanner scanner = new Scanner(System.in);\n",
    "\n",
    "        int x1 = scanner.nextInt();\n",
    "        int y1 = scanner.nextInt();\n",
    "        int x2 = scanner.nextInt();\n",
    "        int y2 = scanner.nextInt();\n",
    "\n",
    "        int x_diff = Math.abs(x2 - x1);\n",
    "        int y_diff = Math.abs(y2 - y1);\n",
    "        \n",
    "        if (x_diff == 0 || y_diff == 0 || x_diff == y_diff) {\n",
    "            System.out.println(\"YES\");\n",
    "        } else {\n",
    "            System.out.println(\"NO\");\n",
    "        }\n",
    "    }\n",
    "}\n"
   ]
  },
  {
   "cell_type": "code",
   "execution_count": 12,
   "metadata": {},
   "outputs": [],
   "source": [
    "import java.util.Scanner;\n",
    "\n",
    "class Main {\n",
    "    public static void main(String[] args) {\n",
    "        // put your code here\n",
    "        Scanner scanner = new Scanner(System.in);\n",
    "\n",
    "        int x1 = scanner.nextInt();\n",
    "        int y1 = scanner.nextInt();\n",
    "        int x2 = scanner.nextInt();\n",
    "        int y2 = scanner.nextInt();\n",
    "\n",
    "        int x_diff = Math.abs(x2 - x1);\n",
    "        int y_diff = Math.abs(y2 - y1);\n",
    "        \n",
    "        if (x_diff == 0) {\n",
    "            System.out.println(\"YES\");\n",
    "        } else if (y_diff == 0) {\n",
    "            System.out.println(\"YES\");\n",
    "        } else if (x_diff == y_diff) {\n",
    "            System.out.println(\"YES\");\n",
    "        } else {\n",
    "            System.out.println(\"NO\");\n",
    "        }\n",
    "    }\n",
    "}"
   ]
  },
  {
   "cell_type": "code",
   "execution_count": 13,
   "metadata": {},
   "outputs": [],
   "source": [
    "import java.util.Scanner;\n",
    "\n",
    "class Main {\n",
    "    public static void main(String[] args) {\n",
    "        // put your code here\n",
    "        Scanner scanner = new Scanner(System.in);\n",
    "\n",
    "        int x1 = scanner.nextInt();\n",
    "        int y1 = scanner.nextInt();\n",
    "        int x2 = scanner.nextInt();\n",
    "        int y2 = scanner.nextInt();\n",
    "\n",
    "        boolean check1 = x1 == x2;\n",
    "        boolean check2 = y1 == y2;\n",
    "        boolean check3 =  Math.abs(x2 - x1) == Math.abs(y2 - y1);\n",
    "        \n",
    "        if (check1 || check2 || check3) {\n",
    "            System.out.println(\"YES\");\n",
    "        } else {\n",
    "            System.out.println(\"NO\");\n",
    "        }\n",
    "    }\n",
    "}"
   ]
  },
  {
   "cell_type": "code",
   "execution_count": 14,
   "metadata": {},
   "outputs": [],
   "source": [
    "import java.util.Scanner;\n",
    "\n",
    "class Main {\n",
    "    public static void main(String[] args) {\n",
    "        // put your code here\n",
    "        Scanner scanner = new Scanner(System.in);\n",
    "\n",
    "        int students = scanner.nextInt();\n",
    "        int score;\n",
    "        \n",
    "        int gradeD = 0;\n",
    "        int gradeC = 0;\n",
    "        int gradeB = 0;\n",
    "        int gradeA = 0;\n",
    "        \n",
    "        for (int i = 0; i < students; i++) {\n",
    "            score = scanner.nextInt();\n",
    "            \n",
    "            gradeD = score == 2 ? ++gradeD : gradeD;\n",
    "            gradeC = score == 3 ? ++gradeC : gradeC;\n",
    "            gradeB = score == 4 ? ++gradeB : gradeB;\n",
    "            gradeA = score == 5 ? ++gradeA : gradeA;\n",
    "        }\n",
    "        \n",
    "        System.out.println(gradeD + \" \" + gradeC + \" \" + gradeB + \" \" + gradeA);\n",
    "    }\n",
    "}"
   ]
  },
  {
   "cell_type": "code",
   "execution_count": 1,
   "metadata": {},
   "outputs": [
    {
     "name": "stdout",
     "output_type": "stream",
     "text": [
      "2 4 6 8 10 "
     ]
    }
   ],
   "source": [
    "int i = 0;\n",
    "while (i < 10) { \n",
    "   i++; \n",
    "   if (i % 2 == 0) { \n",
    "      System.out.print(i + \" \"); \n",
    "   } \n",
    "}"
   ]
  },
  {
   "cell_type": "code",
   "execution_count": 2,
   "metadata": {},
   "outputs": [],
   "source": [
    "import java.util.Scanner;\n",
    "\n",
    "class Main {\n",
    "    public static void main(String[] args) {\n",
    "        // put your code here\n",
    "        Scanner scanner = new Scanner(System.in);\n",
    "        \n",
    "        int num = scanner.nextInt();\n",
    "        \n",
    "        System.out.print(num + \" \");\n",
    "        \n",
    "        while (num != 1) {\n",
    "            num = num % 2 == 0 ? num / 2 : num * 3 + 1;\n",
    "            System.out.print(num + \" \");\n",
    "        }\n",
    "    }\n",
    "}"
   ]
  },
  {
   "cell_type": "code",
   "execution_count": 3,
   "metadata": {},
   "outputs": [],
   "source": [
    "import java.util.Scanner;\n",
    "\n",
    "class Main {\n",
    "    public static void main(String[] args) {\n",
    "        // put your code here\n",
    "        Scanner scanner = new Scanner(System.in);\n",
    "        \n",
    "        int num = scanner.nextInt();\n",
    "        \n",
    "        int i = 1;\n",
    "        \n",
    "        while (i * i <= num) {\n",
    "            System.out.println(i * i);\n",
    "            i += 1;\n",
    "        }\n",
    "    }\n",
    "}"
   ]
  },
  {
   "cell_type": "code",
   "execution_count": 5,
   "metadata": {},
   "outputs": [
    {
     "data": {
      "text/plain": [
       "0"
      ]
     },
     "execution_count": 5,
     "metadata": {},
     "output_type": "execute_result"
    }
   ],
   "source": [
    "(int) 70 / (int) 100"
   ]
  },
  {
   "cell_type": "code",
   "execution_count": 6,
   "metadata": {},
   "outputs": [],
   "source": [
    "import java.util.*;\n",
    "\n",
    "public class Main {\n",
    "    public static void main(String[] args) {\n",
    "        // write your code here\n",
    "        Scanner scanner = new Scanner(System.in);\n",
    "        \n",
    "        float m = scanner.nextInt();\n",
    "        float p = scanner.nextInt();\n",
    "        int k = scanner.nextInt();\n",
    "        \n",
    "        int year = 0;\n",
    "        \n",
    "        while (m < k) {\n",
    "            m = m + (m * (p / 100));\n",
    "            ++year;            \n",
    "        }\n",
    "        \n",
    "        System.out.println(year);\n",
    "    }\n",
    "}\n"
   ]
  },
  {
   "cell_type": "code",
   "execution_count": 7,
   "metadata": {},
   "outputs": [
    {
     "name": "stdout",
     "output_type": "stream",
     "text": [
      "0 \n",
      "0 1 \n",
      "0 1 2 \n",
      "0 1 2 3 \n",
      "0 1 2 3 4 \n",
      "0 1 2 3 4 5 \n",
      "0 1 2 3 4 5 6 \n",
      "0 1 2 3 4 5 6 7 \n",
      "0 1 2 3 4 5 6 7 8 \n",
      "0 1 2 3 4 5 6 7 8 9 \n"
     ]
    }
   ],
   "source": [
    "for (int i = 0; i < 10; i++) {\n",
    "    for (int j = 0; j < 10; j++) {\n",
    "        System.out.print(j + \" \");\n",
    "        if (i == j) {\n",
    "            break;\n",
    "        }\n",
    "    }\n",
    "    System.out.println();\n",
    "}"
   ]
  },
  {
   "cell_type": "code",
   "execution_count": 8,
   "metadata": {},
   "outputs": [
    {
     "name": "stdout",
     "output_type": "stream",
     "text": [
      "0 2 4 6 8 "
     ]
    }
   ],
   "source": [
    "int n = 10;\n",
    "for (int i = 0; i < n; i++) {\n",
    "    if (i % 2 != 0) {\n",
    "        continue;\n",
    "    }\n",
    "    System.out.print(i + \" \");\n",
    "}"
   ]
  },
  {
   "cell_type": "code",
   "execution_count": 9,
   "metadata": {},
   "outputs": [
    {
     "name": "stdout",
     "output_type": "stream",
     "text": [
      "0 2 4 6 8 "
     ]
    }
   ],
   "source": [
    "int n = 10;\n",
    "for (int i = 0; i < n; i++) {\n",
    "    if (i % 2 != 0) {\n",
    "        continue;\n",
    "    }\n",
    "    System.out.print(i + \" \");\n",
    "}"
   ]
  },
  {
   "cell_type": "code",
   "execution_count": 10,
   "metadata": {},
   "outputs": [
    {
     "name": "stdout",
     "output_type": "stream",
     "text": [
      "0 2 4 6 8 "
     ]
    }
   ],
   "source": [
    "int n = 10;\n",
    "for (int i = 0; i < n; i++) { \n",
    "    if (i % 2 == 0) {\n",
    "        System.out.print(i + \" \");\n",
    "    } \n",
    "}"
   ]
  },
  {
   "cell_type": "code",
   "execution_count": 12,
   "metadata": {},
   "outputs": [],
   "source": [
    "import java.util.Scanner;\n",
    "\n",
    "class Main {\n",
    "    public static void main(String[] args) {\n",
    "        // put your code here\n",
    "        Scanner scanner = new Scanner(System.in);\n",
    "        \n",
    "        int n;\n",
    "        \n",
    "        do {\n",
    "            n = scanner.nextInt();\n",
    "            if (n == 0) {\n",
    "                break;\n",
    "            }\n",
    "            \n",
    "            String result = n % 2 == 0 ? \"even\" : \"odd\";\n",
    "            System.out.println(result);\n",
    "        } while (n != 0);\n",
    "    }\n",
    "}"
   ]
  },
  {
   "cell_type": "code",
   "execution_count": 13,
   "metadata": {},
   "outputs": [],
   "source": [
    "import java.util.Scanner;\n",
    "\n",
    "class Main {\n",
    "    public static void main(String[] args) {\n",
    "        // put your code here\n",
    "        Scanner scanner = new Scanner(System.in);\n",
    "        \n",
    "        int n = scanner.nextInt();\n",
    "        \n",
    "        int i = 0;\n",
    "        int j = 1;\n",
    "        int k = 1;\n",
    "        \n",
    "        while (i < n) {\n",
    "            System.out.print(j + \" \");\n",
    "            if (j == k) {\n",
    "                ++j;\n",
    "                k = 0;\n",
    "            }\n",
    "            \n",
    "            ++k;\n",
    "            i++;\n",
    "        }\n",
    "    }\n",
    "}"
   ]
  },
  {
   "cell_type": "code",
   "execution_count": 14,
   "metadata": {},
   "outputs": [],
   "source": [
    "import java.util.Scanner;\n",
    "\n",
    "class Main {\n",
    "    public static void main(String[] args) {\n",
    "        // put your code here\n",
    "        Scanner sc = new Scanner(System.in);\n",
    "        \n",
    "        int n;\n",
    "        \n",
    "        int sum = 0;\n",
    "        \n",
    "        do {\n",
    "            n = sc.nextInt();\n",
    "            \n",
    "            if (n == 0) {\n",
    "                break;\n",
    "            }\n",
    "            \n",
    "            if (sum > 1000) {\n",
    "                continue;\n",
    "            } else {\n",
    "                sum = sum + n;\n",
    "            }\n",
    "        } while (n != 0);\n",
    "        \n",
    "        System.out.println(sum - 1000);\n",
    "    }\n",
    "}"
   ]
  },
  {
   "cell_type": "code",
   "execution_count": 16,
   "metadata": {},
   "outputs": [],
   "source": [
    "import java.util.Scanner;\n",
    "\n",
    "class Main {\n",
    "    public static void main(String[] args) {\n",
    "        // put your code here\n",
    "        Scanner sc = new Scanner(System.in);\n",
    "        \n",
    "        int n;\n",
    "        \n",
    "        int sum = 0;\n",
    "        \n",
    "        do {\n",
    "            n = sc.nextInt();\n",
    "            \n",
    "            if (n == 0) {\n",
    "                break;\n",
    "            }\n",
    "            \n",
    "            if (sum >= 1000) {\n",
    "                break;\n",
    "            } else {\n",
    "                sum = sum + n;\n",
    "            }\n",
    "        } while (n != 0);\n",
    "        \n",
    "        System.out.println(sum >= 1000 ? sum - 1000 : sum);\n",
    "    }\n",
    "}"
   ]
  },
  {
   "cell_type": "code",
   "execution_count": 2,
   "metadata": {},
   "outputs": [],
   "source": [
    "String str1 = new String(\"abc\");\n",
    "String str2 = new String(\"abc\");\n",
    "String str3 = new String(\"ABC\");"
   ]
  },
  {
   "cell_type": "code",
   "execution_count": 3,
   "metadata": {},
   "outputs": [
    {
     "data": {
      "text/plain": [
       "false"
      ]
     },
     "execution_count": 3,
     "metadata": {},
     "output_type": "execute_result"
    }
   ],
   "source": [
    "str1.equals(str3)"
   ]
  },
  {
   "cell_type": "code",
   "execution_count": 4,
   "metadata": {},
   "outputs": [
    {
     "data": {
      "text/plain": [
       "true"
      ]
     },
     "execution_count": 4,
     "metadata": {},
     "output_type": "execute_result"
    }
   ],
   "source": [
    "str1.equals(str2)"
   ]
  },
  {
   "cell_type": "code",
   "execution_count": 5,
   "metadata": {},
   "outputs": [
    {
     "data": {
      "text/plain": [
       "false"
      ]
     },
     "execution_count": 5,
     "metadata": {},
     "output_type": "execute_result"
    }
   ],
   "source": [
    "str1 == str2"
   ]
  },
  {
   "cell_type": "code",
   "execution_count": 6,
   "metadata": {},
   "outputs": [
    {
     "data": {
      "text/plain": [
       "true"
      ]
     },
     "execution_count": 6,
     "metadata": {},
     "output_type": "execute_result"
    }
   ],
   "source": [
    "str2.equalsIgnoreCase(str3)"
   ]
  },
  {
   "cell_type": "code",
   "execution_count": 7,
   "metadata": {},
   "outputs": [],
   "source": [
    "import java.util.Scanner;\n",
    "\n",
    "class Main {\n",
    "    public static void main(String[] args) {\n",
    "        // put your code here\n",
    "        Scanner scanner = new Scanner(System.in);\n",
    "        \n",
    "        String ab = scanner.next();\n",
    "        \n",
    "        System.out.println(ab.replace(\"a\", \"b\"));\n",
    "    }\n",
    "}\n"
   ]
  },
  {
   "cell_type": "code",
   "execution_count": 8,
   "metadata": {},
   "outputs": [],
   "source": [
    "import java.util.Scanner;\n",
    "\n",
    "class Main {\n",
    "    public static void main(String[] args) {\n",
    "        // put your code here\n",
    "        Scanner scanner = new Scanner(System.in);\n",
    "        \n",
    "        String text = scanner.nextLine();\n",
    "        int num1 = scanner.nextInt();\n",
    "        int num2 = scanner.nextInt();\n",
    "        \n",
    "        System.out.println(text.substring(num1, num2 + 1));\n",
    "    }\n",
    "}"
   ]
  },
  {
   "cell_type": "code",
   "execution_count": 9,
   "metadata": {},
   "outputs": [],
   "source": [
    "import java.util.Scanner;\n",
    "\n",
    "class Main {\n",
    "    public static void main(String[] args) {\n",
    "        // put your code here\n",
    "        Scanner scanner = new Scanner(System.in);\n",
    "        \n",
    "        String text1 = scanner.nextLine().replace(\" \", \"\");\n",
    "        String text2 = scanner.nextLine().replace(\" \", \"\");\n",
    "        \n",
    "        boolean result = text1.equals(text2);\n",
    "        \n",
    "        System.out.println(result);\n",
    "    }\n",
    "}"
   ]
  },
  {
   "cell_type": "code",
   "execution_count": null,
   "metadata": {},
   "outputs": [],
   "source": []
  }
 ],
 "metadata": {
  "kernelspec": {
   "display_name": "Java",
   "language": "java",
   "name": "java"
  },
  "language_info": {
   "codemirror_mode": "java",
   "file_extension": ".jshell",
   "mimetype": "text/x-java-source",
   "name": "Java",
   "pygments_lexer": "java",
   "version": "11.0.9+11-Ubuntu-0ubuntu1.18.04.1"
  }
 },
 "nbformat": 4,
 "nbformat_minor": 4
}
