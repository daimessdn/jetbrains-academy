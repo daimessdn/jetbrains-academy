{
 "cells": [
  {
   "cell_type": "code",
   "execution_count": 3,
   "metadata": {},
   "outputs": [
    {
     "name": "stdout",
     "output_type": "stream",
     "text": [
      "30\n"
     ]
    }
   ],
   "source": [
    "  // switch case\n",
    "char ch = 'a';\n",
    "int num = 0;\n",
    "switch(ch) {\n",
    "    case 'a':\n",
    "        num = 10; \n",
    "    case 'b':\n",
    "        num = 20;\n",
    "    default: \n",
    "        num = 30;\n",
    "}\n",
    "\n",
    "System.out.println(num);"
   ]
  },
  {
   "cell_type": "code",
   "execution_count": 4,
   "metadata": {},
   "outputs": [
    {
     "name": "stdout",
     "output_type": "stream",
     "text": [
      "125\n"
     ]
    }
   ],
   "source": [
    "int var1 = 100;\n",
    "int var2 = 0;\n",
    "\n",
    "switch (var1) {\n",
    "    case 100:\n",
    "        var2 += var1;\n",
    "    case 200:\n",
    "        var2 += var1 / 4;\n",
    "        break;\n",
    "    case 300:\n",
    "        var2 += var1 / 10;\n",
    "        break;\n",
    "}\n",
    "\n",
    "System.out.println(var2);"
   ]
  },
  {
   "cell_type": "code",
   "execution_count": 5,
   "metadata": {},
   "outputs": [],
   "source": [
    "import java.util.Scanner;\n",
    "\n",
    "public class Main {\n",
    "    public static void main(String[] args) {\n",
    "        // put your code here\n",
    "        Scanner scan = new Scanner(System.in);\n",
    "        \n",
    "        String house = scan.nextLine();\n",
    "        \n",
    "        switch(house) {\n",
    "            case \"gryffindor\":\n",
    "                System.out.println(\"bravery\");\n",
    "                break;\n",
    "            case \"hufflepuff\":\n",
    "                System.out.println(\"loyalty\");\n",
    "                break;\n",
    "            case \"slytherin\":\n",
    "                System.out.println(\"cunning\");\n",
    "                break;\n",
    "            case \"ravenclaw\":\n",
    "                System.out.println(\"intellect\");\n",
    "                break;\n",
    "            default:\n",
    "                System.out.println(\"not a valid house\");\n",
    "                break;\n",
    "        }\n",
    "    }\n",
    "}"
   ]
  },
  {
   "cell_type": "code",
   "execution_count": 8,
   "metadata": {},
   "outputs": [],
   "source": [
    "import java.util.Scanner;\n",
    "\n",
    "public class Main {\n",
    "    public static void main(String[] args) {\n",
    "        // put your code here\n",
    "        Scanner scan = new Scanner(System.in);\n",
    "        \n",
    "        long num1 = scan.nextLong();\n",
    "        String operator = scan.next();\n",
    "        long num2 = scan.nextLong();\n",
    "        \n",
    "        switch(operator) {\n",
    "            case \"+\":\n",
    "                System.out.println(num1 + num2);\n",
    "                break;\n",
    "            case \"-\":\n",
    "                System.out.println(num1 - num2);\n",
    "                break;\n",
    "            case \"*\":\n",
    "                System.out.println(num1 * num2);\n",
    "                break;\n",
    "            case \"/\":\n",
    "                if (num2 == 0) {\n",
    "                    System.out.println(\"Division by 0!\");\n",
    "                }\n",
    "                else {\n",
    "                    System.out.println(num1 / num2);\n",
    "                }\n",
    "                break;\n",
    "            default:\n",
    "                System.out.println(\"Unknown operator\");\n",
    "                break;\n",
    "        }\n",
    "    }\n",
    "}"
   ]
  },
  {
   "cell_type": "code",
   "execution_count": null,
   "metadata": {},
   "outputs": [],
   "source": []
  }
 ],
 "metadata": {
  "kernelspec": {
   "display_name": "Java",
   "language": "java",
   "name": "java"
  },
  "language_info": {
   "codemirror_mode": "java",
   "file_extension": ".jshell",
   "mimetype": "text/x-java-source",
   "name": "Java",
   "pygments_lexer": "java",
   "version": "11.0.9+11-Ubuntu-0ubuntu1.18.04.1"
  }
 },
 "nbformat": 4,
 "nbformat_minor": 4
}
