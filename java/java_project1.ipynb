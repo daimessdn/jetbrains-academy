{
 "cells": [
  {
   "cell_type": "code",
   "execution_count": 1,
   "metadata": {},
   "outputs": [],
   "source": [
    "//// ## Project #1: Hello! What's your name?\n",
    "\n",
    "package bot;\n",
    "\n",
    "public class SimpleBot {\n",
    "    public static void main(String[] args) {\n",
    "        // write your code here\n",
    "        System.out.println(\"Hello! My name is Aid.\");\n",
    "        System.out.println(\"I was created in 2020.\");\n",
    "    }\n",
    "}"
   ]
  },
  {
   "cell_type": "code",
   "execution_count": null,
   "metadata": {},
   "outputs": [],
   "source": [
    "//// ## Project #2: How old are you?\n",
    "\n",
    "package bot;\n",
    "\n",
    "import java.util.Scanner;\n",
    "\n",
    "public class SimpleBot {\n",
    "    public static void main(String[] args) {\n",
    "        Scanner scanner = new Scanner(System.in);\n",
    "\n",
    "        System.out.println(\"Hello! My name is Aid.\");\n",
    "        System.out.println(\"I was created in 2018.\");\n",
    "        System.out.println(\"Please, remind me your name.\");\n",
    "\n",
    "        // reading a name\n",
    "        String yourName = scanner.nextLine();\n",
    "\n",
    "        System.out.println(\"What a great name you have, \" + yourName + \"!\");\n",
    "        System.out.println(\"Let me guess your age.\");\n",
    "        System.out.println(\"Enter remainders of dividing your age by 3, 5 and 7.\");\n",
    "\n",
    "        // reading all remainders\n",
    "        int rem1 = scanner.nextInt();\n",
    "        int rem2 = scanner.nextInt();\n",
    "        int rem3 = scanner.nextInt();\n",
    "        \n",
    "        int yourAge = (rem1 * 70 + rem2 * 21 + rem3 * 15) % 105;\n",
    "\n",
    "        System.out.println(\"Your age is \" + yourAge + \"; that's a good time to start programming!\");\n",
    "    }\n",
    "}\n"
   ]
  },
  {
   "cell_type": "code",
   "execution_count": null,
   "metadata": {},
   "outputs": [],
   "source": [
    "// ## Stage 3/4: Let’s count!\n",
    "\n",
    "package bot;\n",
    "\n",
    "import java.util.Scanner;\n",
    "\n",
    "public class SimpleBot {\n",
    "    public static void main(String[] args) {\n",
    "        Scanner scanner = new Scanner(System.in);\n",
    "\n",
    "        System.out.println(\"Hello! My name is Aid.\");\n",
    "        System.out.println(\"I was created in 2018.\");\n",
    "        System.out.println(\"Please, remind me your name.\");\n",
    "\n",
    "        String name = scanner.nextLine();\n",
    "\n",
    "        System.out.println(\"What a great name you have, \" + name + \"!\");\n",
    "        System.out.println(\"Let me guess your age.\");\n",
    "        System.out.println(\"Enter remainders of dividing your age by 3, 5 and 7.\");\n",
    "\n",
    "        int rem3 = scanner.nextInt();\n",
    "        int rem5 = scanner.nextInt();\n",
    "        int rem7 = scanner.nextInt();\n",
    "\n",
    "        int age = (rem3 * 70 + rem5 * 21 + rem7 * 15) % 105;\n",
    "\n",
    "        System.out.println(\"Your age is \" + age + \"; that's a good time to start programming!\");\n",
    "        System.out.println(\"Now I will prove to you that I can count to any number you want.\");\n",
    "\n",
    "        // read a number and count to it here\n",
    "        int count = scanner.nextInt();\n",
    "        \n",
    "        for (int i = 0; i <= count; i++) {\n",
    "            System.out.println(i + \"!\")\n",
    "        }\n",
    "\n",
    "        System.out.println(\"Completed, have a nice day!\");\n",
    "    }\n",
    "}"
   ]
  },
  {
   "cell_type": "code",
   "execution_count": null,
   "metadata": {},
   "outputs": [],
   "source": [
    "package bot;\n",
    "\n",
    "import java.util.Scanner;\n",
    "\n",
    "public class SimpleBot {\n",
    "    final static Scanner scanner = new Scanner(System.in); // Do not change this line\n",
    "\n",
    "    public static void main(String[] args) {\n",
    "        greet(\"Aid\", \"2018\"); // change it as you need\n",
    "        remindName();\n",
    "        guessAge();\n",
    "        count();\n",
    "        // ...\n",
    "        test();\n",
    "        end();\n",
    "    }\n",
    "\n",
    "    static void greet(String assistantName, String birthYear) {\n",
    "        System.out.println(\"Hello! My name is \" + assistantName + \".\");\n",
    "        System.out.println(\"I was created in \" + birthYear + \".\");\n",
    "        System.out.println(\"Please, remind me your name.\");\n",
    "    }\n",
    "\n",
    "    static void remindName() {\n",
    "        String name = scanner.nextLine();\n",
    "        System.out.println(\"What a great name you have, \" + name + \"!\");\n",
    "    }\n",
    "\n",
    "    static void guessAge() {\n",
    "        System.out.println(\"Let me guess your age.\");\n",
    "        System.out.println(\"Say me remainders of dividing your age by 3, 5 and 7.\");\n",
    "        int rem3 = scanner.nextInt();\n",
    "        int rem5 = scanner.nextInt();\n",
    "        int rem7 = scanner.nextInt();\n",
    "        int age = (rem3 * 70 + rem5 * 21 + rem7 * 15) % 105;\n",
    "        System.out.println(\"Your age is \" + age + \"; that's a good time to start programming!\");\n",
    "    }\n",
    "\n",
    "    static void count() {\n",
    "        System.out.println(\"Now I will prove to you that I can count to any number you want.\");\n",
    "        int num = scanner.nextInt();\n",
    "        for (int i = 0; i <= num; i++) {\n",
    "            System.out.printf(\"%d!\\n\", i);\n",
    "        }\n",
    "    }\n",
    "\n",
    "    static void test() {\n",
    "        System.out.println(\"Let's test your programming knowledge.\");\n",
    "        System.out.println(\"Why do we use methods?\");\n",
    "        System.out.println(\"1. To repeat a statement multiple times.\");\n",
    "        System.out.println(\"2. To decompose a program into several small subroutines.\");\n",
    "        System.out.println(\"3. To determine the execution time of a program.\");\n",
    "        System.out.println(\"4. To interrupt the execution of a program.\");\n",
    "        // write your code here\n",
    "        int answer;\n",
    "        \n",
    "        do {\n",
    "            answer = scanner.nextInt();\n",
    "            \n",
    "            if (answer == 2) {\n",
    "                end();\n",
    "                break;\n",
    "            } else {\n",
    "                System.out.println(\"Please, try again.\");\n",
    "            }\n",
    "        } while (answer != 2);\n",
    "    }\n",
    "\n",
    "    static void end() {\n",
    "        System.out.println(\"Congratulations, have a nice day!\"); // Do not change this text\n",
    "    }\n",
    "}"
   ]
  },
  {
   "cell_type": "code",
   "execution_count": 2,
   "metadata": {},
   "outputs": [],
   "source": [
    "//// ## reading input\n",
    "\n",
    "// importig Scanner\n",
    "import java.util.Scanner"
   ]
  },
  {
   "cell_type": "code",
   "execution_count": 3,
   "metadata": {},
   "outputs": [],
   "source": [
    "// initialize Scanner instance\n",
    "Scanner scanner = new Scanner(System.in);"
   ]
  },
  {
   "cell_type": "code",
   "execution_count": 4,
   "metadata": {},
   "outputs": [
    {
     "name": "stdin",
     "output_type": "stream",
     "text": [
      " rendy\n"
     ]
    },
    {
     "name": "stdout",
     "output_type": "stream",
     "text": [
      "Hello, rendy!\n"
     ]
    }
   ],
   "source": [
    "// read single word or integer\n",
    "String name = scanner.next();\n",
    "\n",
    "System.out.println(\"Hello, \" + name + \"!\");"
   ]
  },
  {
   "cell_type": "code",
   "execution_count": 16,
   "metadata": {},
   "outputs": [
    {
     "name": "stdin",
     "output_type": "stream",
     "text": [
      " this is a simple\n",
      " multiple input which is being read\n"
     ]
    }
   ],
   "source": [
    "// multiline input\n",
    "Scanner scanner = new Scanner(System.in);  \n",
    "\n",
    "String word1 = scanner.next(); // \"This\"\n",
    "String line1 = scanner.nextLine(); // \" is a simple\" \n",
    "String word2 = scanner.next(); // \"multiline\"\n",
    "String word3 = scanner.next(); // \"input,\"\n",
    "String line2 = scanner.nextLine(); // \"\""
   ]
  },
  {
   "cell_type": "code",
   "execution_count": 17,
   "metadata": {},
   "outputs": [
    {
     "name": "stdout",
     "output_type": "stream",
     "text": [
      "this\n",
      " is a simple\n",
      "multiple\n",
      "input\n",
      " which is being read\n"
     ]
    }
   ],
   "source": [
    "System.out.println(word1);\n",
    "System.out.println(line1);\n",
    "System.out.println(word2);\n",
    "System.out.println(word3);\n",
    "System.out.println(line2);"
   ]
  },
  {
   "cell_type": "code",
   "execution_count": 18,
   "metadata": {},
   "outputs": [
    {
     "name": "stdin",
     "output_type": "stream",
     "text": [
      " This Java platform\n",
      " is adaptive\n"
     ]
    },
    {
     "name": "stdout",
     "output_type": "stream",
     "text": [
      "This\n",
      "Java\n",
      "platform\n",
      "is\n",
      "adaptive\n"
     ]
    }
   ],
   "source": [
    "import java.util.Scanner;\n",
    "\n",
    "Scanner scanner = new Scanner(System.in);  \n",
    "\n",
    "String word1 = scanner.next();\n",
    "String word2 = scanner.next();\n",
    "String word3 = scanner.next();\n",
    "String line1 = scanner.nextLine();\n",
    "String word4 = scanner.next();\n",
    "String word5 = scanner.next();\n",
    "String line2 = scanner.nextLine();\n",
    "\n",
    "System.out.println(word1);\n",
    "System.out.println(word2);\n",
    "System.out.println(word3);\n",
    "System.out.println(word4);\n",
    "System.out.println(word5);"
   ]
  },
  {
   "cell_type": "code",
   "execution_count": 20,
   "metadata": {},
   "outputs": [
    {
     "name": "stdin",
     "output_type": "stream",
     "text": [
      " This Java platform\n",
      " is adaptive\n"
     ]
    },
    {
     "name": "stdout",
     "output_type": "stream",
     "text": [
      "This\n",
      "Java\n",
      "platform\n",
      "is\n",
      "adaptive\n"
     ]
    }
   ],
   "source": [
    "import java.util.Scanner;\n",
    "\n",
    "Scanner scanner = new Scanner(System.in);  \n",
    "\n",
    "String word1 = scanner.next();\n",
    "String word2 = scanner.next();\n",
    "String word3 = scanner.next();\n",
    "String word4 = scanner.next();\n",
    "String word5 = scanner.next();\n",
    "\n",
    "System.out.println(word1);\n",
    "System.out.println(word2);\n",
    "System.out.println(word3);\n",
    "System.out.println(word4);\n",
    "System.out.println(word5);"
   ]
  },
  {
   "cell_type": "code",
   "execution_count": 23,
   "metadata": {},
   "outputs": [
    {
     "name": "stdout",
     "output_type": "stream",
     "text": [
      "19\n",
      "14\n",
      "-4\n"
     ]
    }
   ],
   "source": [
    "System.out.println(2 + 4 * 5 - 10 / (2 + 1));\n",
    "System.out.println((3 + 4) * (5 / 2));\n",
    "System.out.println(-30 / 7);"
   ]
  },
  {
   "cell_type": "markdown",
   "metadata": {},
   "source": [
    "integer type and operations"
   ]
  },
  {
   "cell_type": "code",
   "execution_count": 24,
   "metadata": {},
   "outputs": [],
   "source": [
    "int two = 2;\n",
    "int ten = 10;\n",
    "\n",
    "int twelve = two + ten; // 12\n",
    "int eight = ten - two;  // 8\n",
    "int twenty = two * ten; // 20\n",
    "int five = ten / two;   // 5\n",
    "int zero = ten % two;   // 0, no remainder\n",
    "\n",
    "int minusTwo = -two; // -2"
   ]
  },
  {
   "cell_type": "code",
   "execution_count": 25,
   "metadata": {},
   "outputs": [],
   "source": [
    "int million = 1_000_000;"
   ]
  },
  {
   "cell_type": "code",
   "execution_count": 26,
   "metadata": {},
   "outputs": [
    {
     "data": {
      "text/plain": [
       "1000000"
      ]
     },
     "execution_count": 26,
     "metadata": {},
     "output_type": "execute_result"
    }
   ],
   "source": [
    "million"
   ]
  },
  {
   "cell_type": "code",
   "execution_count": 27,
   "metadata": {},
   "outputs": [
    {
     "name": "stdout",
     "output_type": "stream",
     "text": [
      "100000000021\n"
     ]
    }
   ],
   "source": [
    "long one = 1L;\n",
    "long twentyTwo = 22L; // L or l is a literal for longs\n",
    "long bigNumber = 100_000_000_000L;\n",
    "\n",
    "long result = bigNumber + twentyTwo - one; \n",
    "System.out.println(result); // 100000000021"
   ]
  },
  {
   "cell_type": "code",
   "execution_count": 28,
   "metadata": {},
   "outputs": [],
   "source": [
    "int n = 10;\n",
    "n = n + 4; // 14"
   ]
  },
  {
   "cell_type": "code",
   "execution_count": 29,
   "metadata": {},
   "outputs": [
    {
     "data": {
      "text/plain": [
       "14"
      ]
     },
     "execution_count": 29,
     "metadata": {},
     "output_type": "execute_result"
    }
   ],
   "source": [
    "int n = 10;\n",
    "n += 4; // 14"
   ]
  },
  {
   "cell_type": "code",
   "execution_count": 30,
   "metadata": {},
   "outputs": [
    {
     "name": "stdin",
     "output_type": "stream",
     "text": [
      " 3\n",
      " 4\n"
     ]
    },
    {
     "name": "stdout",
     "output_type": "stream",
     "text": [
      "7\n"
     ]
    }
   ],
   "source": [
    "import java.util.Scanner;\n",
    "\n",
    "Scanner scanner = new Scanner(System.in);\n",
    "        \n",
    "int a = scanner.nextInt();\n",
    "int b = scanner.nextInt();\n",
    "\n",
    "int sum = a + b;\n",
    "\n",
    "System.out.println(sum);"
   ]
  },
  {
   "cell_type": "code",
   "execution_count": 39,
   "metadata": {},
   "outputs": [
    {
     "name": "stdin",
     "output_type": "stream",
     "text": [
      " 22\n",
      " 33\n"
     ]
    },
    {
     "name": "stdout",
     "output_type": "stream",
     "text": [
      "55\n"
     ]
    }
   ],
   "source": [
    "import java.util.Scanner;\n",
    "\n",
    "Scanner scanner = new Scanner(System.in);\n",
    "        \n",
    "long a = scanner.nextLong();\n",
    "long b = scanner.nextLong();\n",
    "\n",
    "long sum = a + b;\n",
    "\n",
    "System.out.println(sum);"
   ]
  },
  {
   "cell_type": "code",
   "execution_count": 40,
   "metadata": {},
   "outputs": [
    {
     "name": "stdin",
     "output_type": "stream",
     "text": [
      " 7\n"
     ]
    },
    {
     "name": "stdout",
     "output_type": "stream",
     "text": [
      "8\n"
     ]
    },
    {
     "name": "stdin",
     "output_type": "stream",
     "text": [
      " 8\n"
     ]
    },
    {
     "name": "stdout",
     "output_type": "stream",
     "text": [
      "10\n"
     ]
    }
   ],
   "source": [
    "import java.util.Scanner;\n",
    "\n",
    "Scanner scanner = new Scanner(System.in);\n",
    "\n",
    "int num1 = scanner.nextInt();\n",
    "System.out.println(num1 + 1);\n",
    "\n",
    "int num2 = scanner.nextInt();\n",
    "System.out.println(num2 + 2);"
   ]
  },
  {
   "cell_type": "code",
   "execution_count": 52,
   "metadata": {},
   "outputs": [
    {
     "name": "stdin",
     "output_type": "stream",
     "text": [
      " 2442\n"
     ]
    },
    {
     "name": "stdout",
     "output_type": "stream",
     "text": [
      "2\n",
      "4\n",
      "4\n",
      "2\n",
      "1\n"
     ]
    }
   ],
   "source": [
    "import java.util.Scanner;\n",
    "\n",
    "Scanner scanner = new Scanner(System.in);\n",
    "\n",
    "int num1 = scanner.nextInt();\n",
    "\n",
    "int digit1 = num1 / 1000;\n",
    "int digit2 = num1 / 100 % 10;\n",
    "int digit3 = num1 / 10 % 10;\n",
    "int digit4 = num1 % 10;\n",
    "\n",
    "// System.out.println(digit1);\n",
    "// System.out.println(digit2);\n",
    "// System.out.println(digit3);\n",
    "// System.out.println(digit4);\n",
    "\n",
    "if (digit1 == digit4 && digit2 == digit3) {\n",
    "    System.out.println(1);\n",
    "} else {\n",
    "    System.out.println(23);\n",
    "}\n",
    "// System.out.println(num1 % 100 == num1 / 100);"
   ]
  },
  {
   "cell_type": "code",
   "execution_count": 43,
   "metadata": {},
   "outputs": [],
   "source": []
  },
  {
   "cell_type": "code",
   "execution_count": null,
   "metadata": {},
   "outputs": [],
   "source": []
  }
 ],
 "metadata": {
  "kernelspec": {
   "display_name": "Java",
   "language": "java",
   "name": "java"
  },
  "language_info": {
   "codemirror_mode": "java",
   "file_extension": ".jshell",
   "mimetype": "text/x-java-source",
   "name": "Java",
   "pygments_lexer": "java",
   "version": "11.0.9+11-Ubuntu-0ubuntu1.18.04.1"
  }
 },
 "nbformat": 4,
 "nbformat_minor": 4
}
