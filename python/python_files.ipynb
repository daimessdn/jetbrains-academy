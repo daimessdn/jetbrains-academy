{
 "cells": [
  {
   "cell_type": "code",
   "execution_count": 2,
   "metadata": {},
   "outputs": [],
   "source": [
    "# create the planets.txt\n",
    "planets = [\"Mercury\", \"Venus\", \"Earth\", \"Mars\", \"Jupiter\", \"Saturn\", \"Uranus\", \"Neptune\"]\n",
    "\n",
    "file = open(\"planets.txt\", \"w\")\n",
    "\n",
    "for i in planets:\n",
    "    file.write(i + \"\\n\")\n",
    "    \n",
    "file.close()"
   ]
  },
  {
   "cell_type": "code",
   "execution_count": 3,
   "metadata": {},
   "outputs": [
    {
     "name": "stdout",
     "output_type": "stream",
     "text": [
      "['Mercury\\n', 'Venus\\n', 'Earth\\n', 'Mars\\n', 'Jupiter\\n', 'Saturn\\n', 'Uranus\\n', 'Neptune\\n']\n"
     ]
    }
   ],
   "source": [
    "file = open(\"planets.txt\", \"r\")\n",
    "\n",
    "print(file.readlines())\n",
    "    \n",
    "file.close()"
   ]
  },
  {
   "cell_type": "code",
   "execution_count": 4,
   "metadata": {},
   "outputs": [],
   "source": [
    "import time\n",
    "\n",
    "out = open('file1.txt', 'w')\n",
    "\n",
    "for i in range(3):\n",
    "    print(i, file=out)\n",
    "    time.sleep(5)\n",
    "\n",
    "# at this moment the file is still empty because the buffer has not been flushed\n",
    "out.close()\n",
    "# now the numbers have appeared in the file"
   ]
  },
  {
   "cell_type": "code",
   "execution_count": 5,
   "metadata": {},
   "outputs": [],
   "source": [
    "import time\n",
    "\n",
    "out2 = open('file2.txt', 'w')\n",
    "\n",
    "for i in range(3):\n",
    "    print(i, file=out2, flush=True)\n",
    "    # the numbers are immediately written in the file\n",
    "    time.sleep(5)\n",
    "\n",
    "out2.close()"
   ]
  },
  {
   "cell_type": "code",
   "execution_count": 7,
   "metadata": {},
   "outputs": [],
   "source": [
    "numbers = [1234, 5678, 90]\n",
    "# save this list in `file_with_list.txt`\n",
    "\n",
    "file = open(\"file_with_list.txt\", \"w\")\n",
    "\n",
    "print(numbers, file=file, end=\"\")\n",
    "\n",
    "file.close()\n"
   ]
  },
  {
   "cell_type": "code",
   "execution_count": 9,
   "metadata": {},
   "outputs": [],
   "source": [
    "long_list = list(range(1000000))\n",
    "file_name = \"my_file.txt\"\n",
    "opened_file = open(file_name, 'w')\n",
    "for item in long_list:\n",
    "    # the next line should write each item to my_file.txt\n",
    "    print(item, file=opened_file, flush=True)\n",
    "opened_file.close()\n"
   ]
  },
  {
   "cell_type": "code",
   "execution_count": null,
   "metadata": {},
   "outputs": [],
   "source": []
  }
 ],
 "metadata": {
  "kernelspec": {
   "display_name": "Python 3",
   "language": "python",
   "name": "python3"
  },
  "language_info": {
   "codemirror_mode": {
    "name": "ipython",
    "version": 3
   },
   "file_extension": ".py",
   "mimetype": "text/x-python",
   "name": "python",
   "nbconvert_exporter": "python",
   "pygments_lexer": "ipython3",
   "version": "3.6.9"
  }
 },
 "nbformat": 4,
 "nbformat_minor": 4
}
