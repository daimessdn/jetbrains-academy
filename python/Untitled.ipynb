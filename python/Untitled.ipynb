{
 "cells": [
  {
   "cell_type": "code",
   "execution_count": 1,
   "metadata": {},
   "outputs": [
    {
     "name": "stdout",
     "output_type": "stream",
     "text": [
      "[2, 2, 4, 1, 3, 5]\n",
      "[2, 2, 4, 1, 3, 5, 0]\n",
      "[2, 2, 4, 1, 3, 5, 0, 7]\n",
      "[2, 2, 4, 1, 3, 0, 7]\n",
      "[2, 2, 4, 1, 3, 0, 7, 5]\n"
     ]
    }
   ],
   "source": [
    "numbers = [2, 2, 4, 1, 1, 3, 5]\n",
    "\n",
    "numbers.remove(1)\n",
    "print(numbers)\n",
    "numbers.extend([0])\n",
    "print(numbers)\n",
    "numbers.append(len(numbers))\n",
    "print(numbers)\n",
    "numbers.remove(5)\n",
    "print(numbers)\n",
    "numbers.append(5)\n",
    "print(numbers)"
   ]
  },
  {
   "cell_type": "code",
   "execution_count": 2,
   "metadata": {},
   "outputs": [
    {
     "name": "stdout",
     "output_type": "stream",
     "text": [
      "529\n",
      "625\n",
      "729\n",
      "841\n",
      "961\n",
      "1089\n",
      "1225\n",
      "1369\n",
      "1521\n",
      "1681\n",
      "1849\n",
      "2025\n",
      "2209\n",
      "2401\n"
     ]
    }
   ],
   "source": [
    "def square_odds(a, b):\n",
    "    start = a\n",
    "    if a % 2 == 0:\n",
    "        start += 1\n",
    "    end = b + 1\n",
    "    for odd in range(start, end, 2):\n",
    "        print(odd ** 2)\n",
    "\n",
    "\n",
    "# from 22 to 42\n",
    "square_odds(a=22, b=42)\n",
    "\n",
    "# from 15 to 31\n",
    "square_odds(b=15, a=31)\n",
    "\n",
    "# from 42 to 49\n",
    "square_odds(b=49, a=42)"
   ]
  },
  {
   "cell_type": "code",
   "execution_count": null,
   "metadata": {},
   "outputs": [],
   "source": []
  }
 ],
 "metadata": {
  "kernelspec": {
   "display_name": "Python 3",
   "language": "python",
   "name": "python3"
  },
  "language_info": {
   "codemirror_mode": {
    "name": "ipython",
    "version": 3
   },
   "file_extension": ".py",
   "mimetype": "text/x-python",
   "name": "python",
   "nbconvert_exporter": "python",
   "pygments_lexer": "ipython3",
   "version": "3.6.9"
  }
 },
 "nbformat": 4,
 "nbformat_minor": 4
}
