{
 "cells": [
  {
   "cell_type": "code",
   "execution_count": 1,
   "metadata": {},
   "outputs": [
    {
     "name": "stdout",
     "output_type": "stream",
     "text": [
      "Starting to make a coffee\n",
      "Grinding coffee beans\n",
      "Boiling water\n",
      "Mixing boiled water with crushed coffee beans\n",
      "Pouring coffee into the cup\n",
      "Pouring some milk into the cup\n",
      "Coffee is ready!\n"
     ]
    }
   ],
   "source": [
    "# https://hyperskill.org/projects/68/stages/366/implement\n",
    "\n",
    "# Write your code here\n",
    "print(\"Starting to make a coffee\")\n",
    "print(\"Grinding coffee beans\")\n",
    "print(\"Boiling water\")\n",
    "print(\"Mixing boiled water with crushed coffee beans\")\n",
    "print(\"Pouring coffee into the cup\")\n",
    "print(\"Pouring some milk into the cup\")\n",
    "print(\"Coffee is ready!\")"
   ]
  },
  {
   "cell_type": "code",
   "execution_count": 6,
   "metadata": {},
   "outputs": [
    {
     "name": "stdin",
     "output_type": "stream",
     "text": [
      "Write how many cups of coffee you will need:\n",
      " 250\n"
     ]
    },
    {
     "name": "stdout",
     "output_type": "stream",
     "text": [
      "For 250 cups of coffee you will need:\n",
      "50000 ml of water\n",
      "12500 ml of milk\n",
      "3750 g of coffee beans\n"
     ]
    }
   ],
   "source": [
    "# Write your code here\n",
    "cup = int(input(\"Write how many cups of coffee you will need:\\n\"))\n",
    "print(\"For %d cups of coffee you will need:\" % (cup))\n",
    "print(\"%d ml of water\" % (cup * 200))\n",
    "print(\"%d ml of milk\" % (cup * 50))\n",
    "print(\"%d g of coffee beans\" % (cup * 15))"
   ]
  },
  {
   "cell_type": "code",
   "execution_count": 15,
   "metadata": {},
   "outputs": [
    {
     "name": "stdin",
     "output_type": "stream",
     "text": [
      "Write how many ml of water the coffee machine has:\n",
      " 1550\n",
      "Write how many ml of milk the coffee machine has:\n",
      " 299\n",
      "Write how many grams of coffee beans the coffee machine has:\n",
      " 300\n",
      "Write how many cups of coffee you will need:\n",
      " 3\n"
     ]
    },
    {
     "name": "stdout",
     "output_type": "stream",
     "text": [
      "Yes, I can make that amount of coffee (and even 2 more than that)\n"
     ]
    }
   ],
   "source": [
    "water = int(input(\"Write how many ml of water the coffee machine has:\\n\"))\n",
    "milk = int(input(\"Write how many ml of milk the coffee machine has:\\n\"))\n",
    "coffee = int(input(\"Write how many grams of coffee beans the coffee machine has:\\n\"))\n",
    "cup = int(input(\"Write how many cups of coffee you will need:\\n\"))\n",
    "\n",
    "water_cup = water // 200\n",
    "milk_cup = milk // 50\n",
    "coffee_cup = coffee // 15\n",
    "\n",
    "coffee_can_make = min([water_cup, milk_cup, coffee_cup])\n",
    "\n",
    "if (water_cup >= cup and milk_cup >= cup and coffee_cup >= cup):\n",
    "    print(\"Yes, I can make that amount of coffee\" + (\n",
    "        \"\" if coffee_can_make == cup else \" (and even %d more than that)\" % (coffee_can_make - cup)\n",
    "    ))\n",
    "else:\n",
    "    print(\"No, I can make only %d cups of coffee\" % (coffee_can_make))"
   ]
  },
  {
   "cell_type": "code",
   "execution_count": 3,
   "metadata": {},
   "outputs": [
    {
     "name": "stdin",
     "output_type": "stream",
     "text": [
      "Write action (buy, fill, take):\n",
      " buy\n",
      "\n",
      "What do you want to buy? 1 - espresso, 2 - latte, 3 - cappuccino:\n",
      " 1\n"
     ]
    },
    {
     "name": "stdout",
     "output_type": "stream",
     "text": [
      "I have enough resources, making you a coffee!\n"
     ]
    },
    {
     "name": "stdin",
     "output_type": "stream",
     "text": [
      "\n",
      "Write action (buy, fill, take):\n",
      " remaining\n"
     ]
    },
    {
     "name": "stdout",
     "output_type": "stream",
     "text": [
      "\n",
      "The coffee machine has:\n",
      "150 of water\n",
      "540 of milk\n",
      "104 of coffee beans\n",
      "8 of disposable cups\n",
      "554 of money\n"
     ]
    },
    {
     "name": "stdin",
     "output_type": "stream",
     "text": [
      "\n",
      "Write action (buy, fill, take):\n",
      " buy\n",
      "\n",
      "What do you want to buy? 1 - espresso, 2 - latte, 3 - cappuccino:\n",
      " back\n",
      "\n",
      "Write action (buy, fill, take):\n",
      " exit\n"
     ]
    }
   ],
   "source": [
    "# https://hyperskill.org/projects/68/stages/369/implement\n",
    "def show_coffee_items():\n",
    "    print(\"\\nThe coffee machine has:\")\n",
    "    print(\"%d of water\" % water)\n",
    "    print(\"%d of milk\" % milk)\n",
    "    print(\"%d of coffee beans\" % coffee)\n",
    "    print(\"%d of disposable cups\" % cup)\n",
    "    print(\"%d of money\" % money)\n",
    "    \n",
    "def response_action(action):\n",
    "    global water, cup, coffee, milk, money\n",
    "    if (action == \"buy\"):\n",
    "        item_buy = str(input(\"\\nWhat do you want to buy? 1 - espresso, 2 - latte, 3 - cappuccino:\\n\"))\n",
    "        \n",
    "        if (item_buy == \"1\"):\n",
    "            if (water >= 250 and coffee >= 16 and cup > 0):\n",
    "                water -= 250; coffee -= 16; cup -= 1; money += 4\n",
    "                print(\"I have enough resources, making you a coffee!\")\n",
    "            else:\n",
    "                print(\"Sorry, not enough %s!\" % (\n",
    "                    \"water\" if water < 250 else\n",
    "                    (\"coffee beans\" if coffee < 16 else \"\")\n",
    "                ))\n",
    "        elif (item_buy == \"2\"):\n",
    "            if (water >= 350 and coffee >= 20 and milk >= 75 and cup > 0):\n",
    "                water -= 350; milk -=  75; coffee -= 20; cup -= 1; money += 7\n",
    "                print(\"I have enough resources, making you a coffee!\")\n",
    "            else:\n",
    "                print(\"Sorry, not enough %s!\" % (\n",
    "                    \"water\" if water < 350 else\n",
    "                    (\"coffee beans\" if coffee < 20 else (\n",
    "                     \"milk\" if milk < 75 else \"\"))\n",
    "                ))\n",
    "\n",
    "        elif (item_buy == \"3\"):\n",
    "            if (water >= 200 and coffee >= 12 and milk >= 100 and cup > 0):\n",
    "                water -= 200; milk -= 100; coffee -= 12; cup -= 1; money += 6\n",
    "                print(\"I have enough resources, making you a coffee!\")\n",
    "            else:\n",
    "                print(\"Sorry, not enough %s!\" % (\n",
    "                    \"water\" if water < 200 else\n",
    "                    (\"coffee beans\" if coffee < 12 else (\n",
    "                     \"milk\" if milk < 100 else \"\"))\n",
    "                ))\n",
    "                \n",
    "        elif (item_buy == \"back\"):\n",
    "            return\n",
    "\n",
    "    elif (action == \"fill\"):\n",
    "        water += int(input(\"\\nWrite how many ml of water do you want to add:\\n\"))\n",
    "        milk += int(input(\"Write how many ml of milk do you want to add:\\n\"))\n",
    "        coffee += int(input(\"Write how many grams of coffee do you want to add:\\n\"))\n",
    "        cup += int(input(\"Write how many disposable cups of coffee do you want to add:\\n\"))\n",
    "        \n",
    "    elif (action == \"take\"):\n",
    "        print(\"\\nI gave you ${}\".format(money))\n",
    "        money = 0\n",
    "        \n",
    "    elif (action == \"remaining\"):\n",
    "        show_coffee_items()\n",
    "    \n",
    "water = 400\n",
    "milk = 540\n",
    "coffee = 120\n",
    "cup = 9\n",
    "money = 550\n",
    "\n",
    "action = str(input(\"Write action (buy, fill, take, remaining, exit):\\n\"))\n",
    "\n",
    "while action != \"exit\":\n",
    "    response_action(action)\n",
    "    action = str(input(\"\\nWrite action (buy, fill, take, remaining, exit):\\n\"))\n"
   ]
  },
  {
   "cell_type": "code",
   "execution_count": null,
   "metadata": {},
   "outputs": [],
   "source": [
    "# https://hyperskill.org/projects/68/stages/369/implement\n",
    "def show_coffee_items():\n",
    "    print(\"\\nThe coffee machine has:\")\n",
    "    print(\"%d of water\" % water)\n",
    "    print(\"%d of milk\" % milk)\n",
    "    print(\"%d of coffee beans\" % coffee)\n",
    "    print(\"%d of disposable cups\" % cup)\n",
    "    print(\"%d of money\" % money)\n",
    "    \n",
    "def response_action(action):\n",
    "    global water, cup, coffee, milk, money\n",
    "    if (action == \"buy\"):\n",
    "        item_buy = str(input(\"\\nWhat do you want to buy? 1 - espresso, 2 - latte, 3 - cappuccino:\\n\"))\n",
    "        \n",
    "        if (item_buy == \"1\"):\n",
    "            if (water >= 250 and coffee >= 16 and cup > 0):\n",
    "                water -= 250; coffee -= 16; cup -= 1; money += 4\n",
    "                print(\"I have enough resources, making you a coffee!\")\n",
    "            else:\n",
    "                print(\"Sorry, not enough %s!\" % (\n",
    "                    \"water\" if water < 250 else\n",
    "                    (\"coffee beans\" if coffee < 16 else \"\")\n",
    "                ))\n",
    "        elif (item_buy == \"2\"):\n",
    "            if (water >= 350 and coffee >= 20 and milk >= 75 and cup > 0):\n",
    "                water -= 350; milk -=  75; coffee -= 20; cup -= 1; money += 7\n",
    "                print(\"I have enough resources, making you a coffee!\")\n",
    "            else:\n",
    "                print(\"Sorry, not enough %s!\" % (\n",
    "                    \"water\" if water < 350 else\n",
    "                    (\"coffee beans\" if coffee < 20 else (\n",
    "                     \"milk\" if milk < 75 else \"\"))\n",
    "                ))\n",
    "\n",
    "        elif (item_buy == \"3\"):\n",
    "            if (water >= 200 and coffee >= 12 and milk >= 100 and cup > 0):\n",
    "                water -= 200; milk -= 100; coffee -= 12; cup -= 1; money += 6\n",
    "                print(\"I have enough resources, making you a coffee!\")\n",
    "            else:\n",
    "                print(\"Sorry, not enough %s!\" % (\n",
    "                    \"water\" if water < 200 else\n",
    "                    (\"coffee beans\" if coffee < 12 else (\n",
    "                     \"milk\" if milk < 100 else \"\"))\n",
    "                ))\n",
    "                \n",
    "        elif (item_buy == \"back\"):\n",
    "            return\n",
    "\n",
    "    elif (action == \"fill\"):\n",
    "        water += int(input(\"\\nWrite how many ml of water do you want to add:\\n\"))\n",
    "        milk += int(input(\"Write how many ml of milk do you want to add:\\n\"))\n",
    "        coffee += int(input(\"Write how many grams of coffee do you want to add:\\n\"))\n",
    "        cup += int(input(\"Write how many disposable cups of coffee do you want to add:\\n\"))\n",
    "        \n",
    "    elif (action == \"take\"):\n",
    "        print(\"\\nI gave you ${}\".format(money))\n",
    "        money = 0\n",
    "        \n",
    "    elif (action == \"remaining\"):\n",
    "        show_coffee_items()\n",
    "    \n",
    "water = 400\n",
    "milk = 540\n",
    "coffee = 120\n",
    "cup = 9\n",
    "money = 550\n",
    "\n",
    "action = str(input(\"Write action (buy, fill, take):\\n\"))\n",
    "\n",
    "while action != \"exit\":\n",
    "    response_action(action)\n",
    "    action = str(input(\"\\nWrite action (buy, fill, take):\\n\"))\n"
   ]
  }
 ],
 "metadata": {
  "kernelspec": {
   "display_name": "Python 3",
   "language": "python",
   "name": "python3"
  },
  "language_info": {
   "codemirror_mode": {
    "name": "ipython",
    "version": 3
   },
   "file_extension": ".py",
   "mimetype": "text/x-python",
   "name": "python",
   "nbconvert_exporter": "python",
   "pygments_lexer": "ipython3",
   "version": "3.6.9"
  }
 },
 "nbformat": 4,
 "nbformat_minor": 4
}
