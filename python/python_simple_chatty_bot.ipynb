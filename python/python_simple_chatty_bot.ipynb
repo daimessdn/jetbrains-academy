{
 "cells": [
  {
   "cell_type": "code",
   "execution_count": 1,
   "metadata": {},
   "outputs": [
    {
     "name": "stdout",
     "output_type": "stream",
     "text": [
      "Hello! My name is Aid.\n",
      "I was created in 2020.\n"
     ]
    }
   ],
   "source": [
    "# stage 1 / 5\n",
    "# write your code here\n",
    "print(\"Hello! My name is Aid.\")\n",
    "print(\"I was created in 2020.\")"
   ]
  },
  {
   "cell_type": "code",
   "execution_count": 4,
   "metadata": {},
   "outputs": [
    {
     "name": "stdout",
     "output_type": "stream",
     "text": [
      "Hello! My name is Aid.\n",
      "I was created in 2020.\n",
      "Please, remind me your name.\n"
     ]
    },
    {
     "name": "stdin",
     "output_type": "stream",
     "text": [
      " Max\n"
     ]
    },
    {
     "name": "stdout",
     "output_type": "stream",
     "text": [
      "What a great name you have, Max!\n"
     ]
    }
   ],
   "source": [
    "# stage 2 / 5\n",
    "print('Hello! My name is Aid.')\n",
    "print('I was created in 2020.')\n",
    "print('Please, remind me your name.')\n",
    "\n",
    "# reading a name\n",
    "your_name = input()\n",
    "\n",
    "print('What a great name you have, ' + your_name + '!')"
   ]
  },
  {
   "cell_type": "code",
   "execution_count": 5,
   "metadata": {},
   "outputs": [
    {
     "name": "stdout",
     "output_type": "stream",
     "text": [
      "Hello! My name is Aid.\n",
      "I was created in 2020.\n",
      "Please, remind me your name.\n"
     ]
    },
    {
     "name": "stdin",
     "output_type": "stream",
     "text": [
      " Max\n"
     ]
    },
    {
     "name": "stdout",
     "output_type": "stream",
     "text": [
      "What a great name you have, Max!\n",
      "Let me guess your age.\n",
      "Enter remainders of dividing your age by 3, 5 and 7.\n"
     ]
    },
    {
     "name": "stdin",
     "output_type": "stream",
     "text": [
      " 1\n",
      " 2\n",
      " 1\n"
     ]
    },
    {
     "name": "stdout",
     "output_type": "stream",
     "text": [
      "Your age is 22; that's a good time to start programming!\n"
     ]
    }
   ],
   "source": [
    "# stage 3 / 5\n",
    "print('Hello! My name is Aid.')\n",
    "print('I was created in 2020.')\n",
    "print('Please, remind me your name.')\n",
    "\n",
    "name = input()\n",
    "\n",
    "print('What a great name you have, ' + name + '!')\n",
    "print('Let me guess your age.')\n",
    "print('Enter remainders of dividing your age by 3, 5 and 7.')\n",
    "\n",
    "# reading all remainders\n",
    "remainder3 = int(input())\n",
    "remainder5 = int(input())\n",
    "remainder7 = int(input())\n",
    "\n",
    "age = (remainder3 * 70 + remainder5 * 21 + remainder7 * 15) % 105\n",
    "\n",
    "print(\"Your age is \" + str(age) + \"; that's a good time to start programming!\")\n"
   ]
  },
  {
   "cell_type": "code",
   "execution_count": null,
   "metadata": {},
   "outputs": [],
   "source": []
  }
 ],
 "metadata": {
  "kernelspec": {
   "display_name": "Python 3",
   "language": "python",
   "name": "python3"
  },
  "language_info": {
   "codemirror_mode": {
    "name": "ipython",
    "version": 3
   },
   "file_extension": ".py",
   "mimetype": "text/x-python",
   "name": "python",
   "nbconvert_exporter": "python",
   "pygments_lexer": "ipython3",
   "version": "3.6.9"
  }
 },
 "nbformat": 4,
 "nbformat_minor": 4
}
