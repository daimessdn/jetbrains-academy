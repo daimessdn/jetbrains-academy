{
 "cells": [
  {
   "cell_type": "code",
   "execution_count": 1,
   "metadata": {},
   "outputs": [
    {
     "name": "stdout",
     "output_type": "stream",
     "text": [
      "Hello! My name is Aid.\n",
      "I was created in 2020.\n"
     ]
    }
   ],
   "source": [
    "# stage 1 / 5\n",
    "# write your code here\n",
    "print(\"Hello! My name is Aid.\")\n",
    "print(\"I was created in 2020.\")"
   ]
  },
  {
   "cell_type": "code",
   "execution_count": 4,
   "metadata": {},
   "outputs": [
    {
     "name": "stdout",
     "output_type": "stream",
     "text": [
      "Hello! My name is Aid.\n",
      "I was created in 2020.\n",
      "Please, remind me your name.\n"
     ]
    },
    {
     "name": "stdin",
     "output_type": "stream",
     "text": [
      " Max\n"
     ]
    },
    {
     "name": "stdout",
     "output_type": "stream",
     "text": [
      "What a great name you have, Max!\n"
     ]
    }
   ],
   "source": [
    "# stage 2 / 5\n",
    "print('Hello! My name is Aid.')\n",
    "print('I was created in 2020.')\n",
    "print('Please, remind me your name.')\n",
    "\n",
    "# reading a name\n",
    "your_name = input()\n",
    "\n",
    "print('What a great name you have, ' + your_name + '!')"
   ]
  },
  {
   "cell_type": "code",
   "execution_count": 5,
   "metadata": {},
   "outputs": [
    {
     "name": "stdout",
     "output_type": "stream",
     "text": [
      "Hello! My name is Aid.\n",
      "I was created in 2020.\n",
      "Please, remind me your name.\n"
     ]
    },
    {
     "name": "stdin",
     "output_type": "stream",
     "text": [
      " Max\n"
     ]
    },
    {
     "name": "stdout",
     "output_type": "stream",
     "text": [
      "What a great name you have, Max!\n",
      "Let me guess your age.\n",
      "Enter remainders of dividing your age by 3, 5 and 7.\n"
     ]
    },
    {
     "name": "stdin",
     "output_type": "stream",
     "text": [
      " 1\n",
      " 2\n",
      " 1\n"
     ]
    },
    {
     "name": "stdout",
     "output_type": "stream",
     "text": [
      "Your age is 22; that's a good time to start programming!\n"
     ]
    }
   ],
   "source": [
    "# stage 3 / 5\n",
    "print('Hello! My name is Aid.')\n",
    "print('I was created in 2020.')\n",
    "print('Please, remind me your name.')\n",
    "\n",
    "name = input()\n",
    "\n",
    "print('What a great name you have, ' + name + '!')\n",
    "print('Let me guess your age.')\n",
    "print('Enter remainders of dividing your age by 3, 5 and 7.')\n",
    "\n",
    "# reading all remainders\n",
    "remainder3 = int(input())\n",
    "remainder5 = int(input())\n",
    "remainder7 = int(input())\n",
    "\n",
    "age = (remainder3 * 70 + remainder5 * 21 + remainder7 * 15) % 105\n",
    "\n",
    "print(\"Your age is \" + str(age) + \"; that's a good time to start programming!\")\n"
   ]
  },
  {
   "cell_type": "code",
   "execution_count": 2,
   "metadata": {},
   "outputs": [
    {
     "name": "stdout",
     "output_type": "stream",
     "text": [
      "Hello! My name is Aid.\n",
      "I was created in 2020.\n",
      "Please, remind me your name.\n"
     ]
    },
    {
     "name": "stdin",
     "output_type": "stream",
     "text": [
      " Aid\n"
     ]
    },
    {
     "name": "stdout",
     "output_type": "stream",
     "text": [
      "What a great name you have, Aid!\n",
      "Let me guess your age.\n",
      "Enter remainders of dividing your age by 3, 5 and 7.\n"
     ]
    },
    {
     "name": "stdin",
     "output_type": "stream",
     "text": [
      " 1\n",
      " 0\n",
      " 5\n"
     ]
    },
    {
     "name": "stdout",
     "output_type": "stream",
     "text": [
      "Your age is 40; that's a good time to start programming!\n",
      "Now I will prove to you that I can count to any number you want.\n"
     ]
    },
    {
     "name": "stdin",
     "output_type": "stream",
     "text": [
      " 10\n"
     ]
    },
    {
     "name": "stdout",
     "output_type": "stream",
     "text": [
      "0 !\n",
      "1 !\n",
      "2 !\n",
      "3 !\n",
      "4 !\n",
      "5 !\n",
      "6 !\n",
      "7 !\n",
      "8 !\n",
      "9 !\n",
      "10 !\n",
      "Completed, have a nice day!\n"
     ]
    }
   ],
   "source": [
    "print('Hello! My name is Aid.')\n",
    "print('I was created in 2020.')\n",
    "print('Please, remind me your name.')\n",
    "\n",
    "name = input()\n",
    "\n",
    "print('What a great name you have, ' + name + '!')\n",
    "print('Let me guess your age.')\n",
    "print('Enter remainders of dividing your age by 3, 5 and 7.')\n",
    "\n",
    "rem3 = int(input())\n",
    "rem5 = int(input())\n",
    "rem7 = int(input())\n",
    "\n",
    "age = (rem3 * 70 + rem5 * 21 + rem7 * 15) % 105\n",
    "\n",
    "print(\"Your age is \" + str(age) + \"; that's a good time to start programming!\")\n",
    "print('Now I will prove to you that I can count to any number you want.')\n",
    "\n",
    "# read a number and count to it here\n",
    "num = int(input())\n",
    "\n",
    "for i in range(0, num + 1):\n",
    "    print(str(i) + \" !\")\n",
    "\n",
    "print('Completed, have a nice day!')"
   ]
  },
  {
   "cell_type": "code",
   "execution_count": 7,
   "metadata": {},
   "outputs": [
    {
     "name": "stdout",
     "output_type": "stream",
     "text": [
      "Hello! My name is Aid.\n",
      "I was created in 2020.\n",
      "Please, remind me your name.\n"
     ]
    },
    {
     "name": "stdin",
     "output_type": "stream",
     "text": [
      " Max\n"
     ]
    },
    {
     "name": "stdout",
     "output_type": "stream",
     "text": [
      "What a great name you have, Max!\n",
      "Let me guess your age.\n",
      "Enter remainders of dividing your age by 3, 5 and 7.\n"
     ]
    },
    {
     "name": "stdin",
     "output_type": "stream",
     "text": [
      " 1\n",
      " 0\n",
      " 5\n"
     ]
    },
    {
     "name": "stdout",
     "output_type": "stream",
     "text": [
      "Your age is 40; that's a good time to start programming!\n",
      "Now I will prove to you that I can count to any number you want.\n"
     ]
    },
    {
     "name": "stdin",
     "output_type": "stream",
     "text": [
      " 10\n"
     ]
    },
    {
     "name": "stdout",
     "output_type": "stream",
     "text": [
      "0 !\n",
      "1 !\n",
      "2 !\n",
      "3 !\n",
      "4 !\n",
      "5 !\n",
      "6 !\n",
      "7 !\n",
      "8 !\n",
      "9 !\n",
      "10 !\n",
      "Let's test your programming knowledge.\n",
      "Why do we use methods?\n",
      "1. To repeat a statement multiple times.\n",
      "2. To decompose a program into several small subroutines.\n",
      "3. To determine the execution time of a program.\n",
      "4. To interrupt the execution of a program.\n"
     ]
    },
    {
     "name": "stdin",
     "output_type": "stream",
     "text": [
      " 4\n"
     ]
    },
    {
     "name": "stdout",
     "output_type": "stream",
     "text": [
      "Please, try again.\n"
     ]
    },
    {
     "name": "stdin",
     "output_type": "stream",
     "text": [
      " 2\n"
     ]
    },
    {
     "name": "stdout",
     "output_type": "stream",
     "text": [
      "Completed, have a nice day!\n",
      "Congratulations, have a nice day!\n"
     ]
    }
   ],
   "source": [
    "def greet(bot_name, birth_year):\n",
    "    print('Hello! My name is ' + bot_name + '.')\n",
    "    print('I was created in ' + birth_year + '.')\n",
    "\n",
    "\n",
    "def remind_name():\n",
    "    print('Please, remind me your name.')\n",
    "    name = input()\n",
    "    print('What a great name you have, ' + name + '!')\n",
    "\n",
    "\n",
    "def guess_age():\n",
    "    print('Let me guess your age.')\n",
    "    print('Enter remainders of dividing your age by 3, 5 and 7.')\n",
    "\n",
    "    rem3 = int(input())\n",
    "    rem5 = int(input())\n",
    "    rem7 = int(input())\n",
    "    age = (rem3 * 70 + rem5 * 21 + rem7 * 15) % 105\n",
    "\n",
    "    print(\"Your age is \" + str(age) + \"; that's a good time to start programming!\")\n",
    "\n",
    "\n",
    "def count():\n",
    "    print('Now I will prove to you that I can count to any number you want.')\n",
    "\n",
    "    num = int(input())\n",
    "    curr = 0\n",
    "    while curr <= num:\n",
    "        print(curr, '!')\n",
    "        curr = curr + 1\n",
    "\n",
    "\n",
    "def test():\n",
    "    print(\"Let's test your programming knowledge.\")\n",
    "    # write your code here\n",
    "    print(\"Why do we use methods?\")\n",
    "    print(\"1. To repeat a statement multiple times.\")\n",
    "    print(\"2. To decompose a program into several small subroutines.\")\n",
    "    print(\"3. To determine the execution time of a program.\")\n",
    "    print(\"4. To interrupt the execution of a program.\")\n",
    "    \n",
    "    answer = int(input())\n",
    "    \n",
    "    while answer != 2:\n",
    "        print(\"Please, try again.\")\n",
    "        answer = int(input())\n",
    "        \n",
    "    print('Completed, have a nice day!')\n",
    "\n",
    "\n",
    "def end():\n",
    "    print('Congratulations, have a nice day!')\n",
    "\n",
    "\n",
    "greet('Aid', '2020')  # change it as you need\n",
    "remind_name()\n",
    "guess_age()\n",
    "count()\n",
    "test()\n",
    "end()\n"
   ]
  },
  {
   "cell_type": "code",
   "execution_count": null,
   "metadata": {},
   "outputs": [],
   "source": []
  }
 ],
 "metadata": {
  "kernelspec": {
   "display_name": "Python 3",
   "language": "python",
   "name": "python3"
  },
  "language_info": {
   "codemirror_mode": {
    "name": "ipython",
    "version": 3
   },
   "file_extension": ".py",
   "mimetype": "text/x-python",
   "name": "python",
   "nbconvert_exporter": "python",
   "pygments_lexer": "ipython3",
   "version": "3.6.9"
  }
 },
 "nbformat": 4,
 "nbformat_minor": 4
}
