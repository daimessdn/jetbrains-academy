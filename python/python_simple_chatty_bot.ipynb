{
 "cells": [
  {
   "cell_type": "code",
   "execution_count": 1,
   "metadata": {},
   "outputs": [
    {
     "name": "stdout",
     "output_type": "stream",
     "text": [
      "Hello! My name is Aid.\n",
      "I was created in 2020.\n"
     ]
    }
   ],
   "source": [
    "# stage 1 / 5\n",
    "# write your code here\n",
    "print(\"Hello! My name is Aid.\")\n",
    "print(\"I was created in 2020.\")"
   ]
  },
  {
   "cell_type": "code",
   "execution_count": 4,
   "metadata": {},
   "outputs": [
    {
     "name": "stdout",
     "output_type": "stream",
     "text": [
      "Hello! My name is Aid.\n",
      "I was created in 2020.\n",
      "Please, remind me your name.\n"
     ]
    },
    {
     "name": "stdin",
     "output_type": "stream",
     "text": [
      " Max\n"
     ]
    },
    {
     "name": "stdout",
     "output_type": "stream",
     "text": [
      "What a great name you have, Max!\n"
     ]
    }
   ],
   "source": [
    "# stage 2 / 5\n",
    "print('Hello! My name is Aid.')\n",
    "print('I was created in 2020.')\n",
    "print('Please, remind me your name.')\n",
    "\n",
    "# reading a name\n",
    "your_name = input()\n",
    "\n",
    "print('What a great name you have, ' + your_name + '!')"
   ]
  },
  {
   "cell_type": "code",
   "execution_count": 5,
   "metadata": {},
   "outputs": [
    {
     "name": "stdout",
     "output_type": "stream",
     "text": [
      "Hello! My name is Aid.\n",
      "I was created in 2020.\n",
      "Please, remind me your name.\n"
     ]
    },
    {
     "name": "stdin",
     "output_type": "stream",
     "text": [
      " Max\n"
     ]
    },
    {
     "name": "stdout",
     "output_type": "stream",
     "text": [
      "What a great name you have, Max!\n",
      "Let me guess your age.\n",
      "Enter remainders of dividing your age by 3, 5 and 7.\n"
     ]
    },
    {
     "name": "stdin",
     "output_type": "stream",
     "text": [
      " 1\n",
      " 2\n",
      " 1\n"
     ]
    },
    {
     "name": "stdout",
     "output_type": "stream",
     "text": [
      "Your age is 22; that's a good time to start programming!\n"
     ]
    }
   ],
   "source": [
    "# stage 3 / 5\n",
    "print('Hello! My name is Aid.')\n",
    "print('I was created in 2020.')\n",
    "print('Please, remind me your name.')\n",
    "\n",
    "name = input()\n",
    "\n",
    "print('What a great name you have, ' + name + '!')\n",
    "print('Let me guess your age.')\n",
    "print('Enter remainders of dividing your age by 3, 5 and 7.')\n",
    "\n",
    "# reading all remainders\n",
    "remainder3 = int(input())\n",
    "remainder5 = int(input())\n",
    "remainder7 = int(input())\n",
    "\n",
    "age = (remainder3 * 70 + remainder5 * 21 + remainder7 * 15) % 105\n",
    "\n",
    "print(\"Your age is \" + str(age) + \"; that's a good time to start programming!\")\n"
   ]
  },
  {
   "cell_type": "code",
   "execution_count": 1,
   "metadata": {},
   "outputs": [
    {
     "name": "stdout",
     "output_type": "stream",
     "text": [
      "Hello! My name is Aid.\n",
      "I was created in 2020.\n",
      "Please, remind me your name.\n"
     ]
    },
    {
     "name": "stdin",
     "output_type": "stream",
     "text": [
      " Aid\n"
     ]
    },
    {
     "name": "stdout",
     "output_type": "stream",
     "text": [
      "What a great name you have, Aid!\n",
      "Let me guess your age.\n",
      "Enter remainders of dividing your age by 3, 5 and 7.\n"
     ]
    },
    {
     "name": "stdin",
     "output_type": "stream",
     "text": [
      " 1\n",
      " 0\n",
      " 5\n"
     ]
    },
    {
     "name": "stdout",
     "output_type": "stream",
     "text": [
      "Your age is 40; that's a good time to start programming!\n",
      "Now I will prove to you that I can count to any number you want.\n"
     ]
    },
    {
     "name": "stdin",
     "output_type": "stream",
     "text": [
      " 10\n"
     ]
    },
    {
     "name": "stdout",
     "output_type": "stream",
     "text": [
      "0 !\n",
      "1 !\n",
      "2 !\n",
      "3 !\n",
      "4 !\n",
      "5 !\n",
      "6 !\n",
      "7 !\n",
      "8 !\n",
      "9 !\n",
      "Completed, have a nice day!\n"
     ]
    }
   ],
   "source": [
    "print('Hello! My name is Aid.')\n",
    "print('I was created in 2020.')\n",
    "print('Please, remind me your name.')\n",
    "\n",
    "name = input()\n",
    "\n",
    "print('What a great name you have, ' + name + '!')\n",
    "print('Let me guess your age.')\n",
    "print('Enter remainders of dividing your age by 3, 5 and 7.')\n",
    "\n",
    "rem3 = int(input())\n",
    "rem5 = int(input())\n",
    "rem7 = int(input())\n",
    "\n",
    "age = (rem3 * 70 + rem5 * 21 + rem7 * 15) % 105\n",
    "\n",
    "print(\"Your age is \" + str(age) + \"; that's a good time to start programming!\")\n",
    "print('Now I will prove to you that I can count to any number you want.')\n",
    "\n",
    "# read a number and count to it here\n",
    "num = int(input())\n",
    "\n",
    "for i in range(0, num):\n",
    "    print(str(i) + \" !\")\n",
    "\n",
    "print('Completed, have a nice day!')"
   ]
  },
  {
   "cell_type": "code",
   "execution_count": null,
   "metadata": {},
   "outputs": [],
   "source": []
  }
 ],
 "metadata": {
  "kernelspec": {
   "display_name": "Python 3",
   "language": "python",
   "name": "python3"
  },
  "language_info": {
   "codemirror_mode": {
    "name": "ipython",
    "version": 3
   },
   "file_extension": ".py",
   "mimetype": "text/x-python",
   "name": "python",
   "nbconvert_exporter": "python",
   "pygments_lexer": "ipython3",
   "version": "3.6.9"
  }
 },
 "nbformat": 4,
 "nbformat_minor": 4
}
