{
 "cells": [
  {
   "cell_type": "code",
   "execution_count": 6,
   "metadata": {},
   "outputs": [
    {
     "name": "stdin",
     "output_type": "stream",
     "text": [
      " scissors\n"
     ]
    },
    {
     "name": "stdout",
     "output_type": "stream",
     "text": [
      "Sorry, but the computer chose rock\n"
     ]
    }
   ],
   "source": [
    "# https://hyperskill.org/projects/78/stages/431/implement\n",
    "\n",
    "p_hand = input()\n",
    "print(\"Sorry, but the computer chose %s\" % (\"rock\" if p_hand == \"scissors\" else (\"paper\" if p_hand == \"rock\" else \"scissors\")))"
   ]
  },
  {
   "cell_type": "code",
   "execution_count": 7,
   "metadata": {},
   "outputs": [
    {
     "name": "stdin",
     "output_type": "stream",
     "text": [
      " rock\n"
     ]
    },
    {
     "name": "stdout",
     "output_type": "stream",
     "text": [
      "There is a draw (rock)\n"
     ]
    }
   ],
   "source": [
    "import random\n",
    "\n",
    "p_hand = input()\n",
    "c_hand = random.choice([\"paper\", \"scissors\", \"rock\"])\n",
    "\n",
    "if (c_hand == p_hand):\n",
    "    print(\"There is a draw (%s)\" % (c_hand))\n",
    "elif (c_hand == \"paper\" and p_hand == \"scissors\" or\n",
    "      c_hand == \"scissors\" and p_hand == \"rock\" or\n",
    "      c_hand == \"rock\" and p_hand == \"paper\"):\n",
    "    print(\"Well done. The computer chose %s and failed\" % (c_hand))\n",
    "else:\n",
    "    print(\"Sorry, but the computer chose %s\" % (c_hand))"
   ]
  },
  {
   "cell_type": "code",
   "execution_count": null,
   "metadata": {},
   "outputs": [],
   "source": []
  }
 ],
 "metadata": {
  "kernelspec": {
   "display_name": "Python 3",
   "language": "python",
   "name": "python3"
  },
  "language_info": {
   "codemirror_mode": {
    "name": "ipython",
    "version": 3
   },
   "file_extension": ".py",
   "mimetype": "text/x-python",
   "name": "python",
   "nbconvert_exporter": "python",
   "pygments_lexer": "ipython3",
   "version": "3.6.9"
  }
 },
 "nbformat": 4,
 "nbformat_minor": 4
}
