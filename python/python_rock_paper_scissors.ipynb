{
 "cells": [
  {
   "cell_type": "code",
   "execution_count": 6,
   "metadata": {},
   "outputs": [
    {
     "name": "stdin",
     "output_type": "stream",
     "text": [
      " scissors\n"
     ]
    },
    {
     "name": "stdout",
     "output_type": "stream",
     "text": [
      "Sorry, but the computer chose rock\n"
     ]
    }
   ],
   "source": [
    "# https://hyperskill.org/projects/78/stages/431/implement\n",
    "\n",
    "p_hand = input()\n",
    "print(\"Sorry, but the computer chose %s\" % (\"rock\" if p_hand == \"scissors\" else (\"paper\" if p_hand == \"rock\" else \"scissors\")))"
   ]
  },
  {
   "cell_type": "code",
   "execution_count": 7,
   "metadata": {},
   "outputs": [
    {
     "name": "stdin",
     "output_type": "stream",
     "text": [
      " rock\n"
     ]
    },
    {
     "name": "stdout",
     "output_type": "stream",
     "text": [
      "There is a draw (rock)\n"
     ]
    }
   ],
   "source": [
    "import random\n",
    "\n",
    "p_hand = input()\n",
    "c_hand = random.choice([\"paper\", \"scissors\", \"rock\"])\n",
    "\n",
    "if (c_hand == p_hand):\n",
    "    print(\"There is a draw (%s)\" % (c_hand))\n",
    "elif (c_hand == \"paper\" and p_hand == \"scissors\" or\n",
    "      c_hand == \"scissors\" and p_hand == \"rock\" or\n",
    "      c_hand == \"rock\" and p_hand == \"paper\"):\n",
    "    print(\"Well done. The computer chose %s and failed\" % (c_hand))\n",
    "else:\n",
    "    print(\"Sorry, but the computer chose %s\" % (c_hand))"
   ]
  },
  {
   "cell_type": "code",
   "execution_count": 2,
   "metadata": {},
   "outputs": [
    {
     "name": "stdin",
     "output_type": "stream",
     "text": [
      " scissors\n"
     ]
    },
    {
     "name": "stdout",
     "output_type": "stream",
     "text": [
      "Sorry, but the computer chose rock\n"
     ]
    },
    {
     "name": "stdin",
     "output_type": "stream",
     "text": [
      " xit\n"
     ]
    },
    {
     "name": "stdout",
     "output_type": "stream",
     "text": [
      "Invalid input\n"
     ]
    },
    {
     "name": "stdin",
     "output_type": "stream",
     "text": [
      " !exit\n"
     ]
    },
    {
     "name": "stdout",
     "output_type": "stream",
     "text": [
      "Bye!\n"
     ]
    }
   ],
   "source": [
    "import random\n",
    "\n",
    "valid_choice = [\"paper\", \"scissors\", \"rock\"]\n",
    "\n",
    "p_hand = str(input())\n",
    "\n",
    "p_win = {\n",
    "    \"rock\": \"scissors\",\n",
    "    \"scissors\": \"paper\",\n",
    "    \"paper\": \"rock\"\n",
    "}\n",
    "\n",
    "while (p_hand != \"!exit\"):\n",
    "    c_hand = random.choice(valid_choice)\n",
    "    \n",
    "    if (p_hand in valid_choice):\n",
    "        if (c_hand == p_hand):\n",
    "            print(\"There is a draw (%s)\" % (c_hand))\n",
    "        elif (c_hand in p_win[p_hand]):\n",
    "            print(\"Well done. The computer chose %s and failed\" % (c_hand))\n",
    "        else:\n",
    "            print(\"Sorry, but the computer chose %s\" % (c_hand))\n",
    "    else:\n",
    "        print(\"Invalid input\")\n",
    "    \n",
    "    p_hand = str(input())\n",
    "\n",
    "print(\"Bye!\")\n",
    "    "
   ]
  },
  {
   "cell_type": "code",
   "execution_count": 17,
   "metadata": {},
   "outputs": [
    {
     "name": "stdin",
     "output_type": "stream",
     "text": [
      "Enter your name:  Chuck\n"
     ]
    },
    {
     "name": "stdout",
     "output_type": "stream",
     "text": [
      "Hello, Chuck\n"
     ]
    },
    {
     "name": "stdin",
     "output_type": "stream",
     "text": [
      " scissots\n"
     ]
    },
    {
     "name": "stdout",
     "output_type": "stream",
     "text": [
      "Invalid input\n"
     ]
    },
    {
     "name": "stdin",
     "output_type": "stream",
     "text": [
      " scissors\n"
     ]
    },
    {
     "name": "stdout",
     "output_type": "stream",
     "text": [
      "There is a draw (scissors)\n"
     ]
    },
    {
     "name": "stdin",
     "output_type": "stream",
     "text": [
      " rock\n"
     ]
    },
    {
     "name": "stdout",
     "output_type": "stream",
     "text": [
      "Sorry, but the computer chose paper\n"
     ]
    },
    {
     "name": "stdin",
     "output_type": "stream",
     "text": [
      " paper\n"
     ]
    },
    {
     "name": "stdout",
     "output_type": "stream",
     "text": [
      "There is a draw (paper)\n"
     ]
    },
    {
     "name": "stdin",
     "output_type": "stream",
     "text": [
      " !rating\n"
     ]
    },
    {
     "name": "stdout",
     "output_type": "stream",
     "text": [
      "Your rating: 100\n"
     ]
    },
    {
     "name": "stdin",
     "output_type": "stream",
     "text": [
      " !exit\n"
     ]
    },
    {
     "name": "stdout",
     "output_type": "stream",
     "text": [
      "Bye!\n"
     ]
    }
   ],
   "source": [
    "import random\n",
    "\n",
    "boards = open(\"rating.txt\", \"r+\")\n",
    "\n",
    "ratings = {}\n",
    "\n",
    "for i in boards.readlines():\n",
    "    temp = i.split()\n",
    "    ratings[temp[0]] = int(temp[1])\n",
    "\n",
    "name = str(input(\"Enter your name: \"))\n",
    "score = ratings[name] if name in ratings.keys() else 0\n",
    "\n",
    "print(\"Hello, %s\" % (name))\n",
    "\n",
    "valid_choice = [\"paper\", \"scissors\", \"rock\"]\n",
    "p_win = {\n",
    "    \"rock\": \"scissors\",\n",
    "    \"scissors\": \"paper\",\n",
    "    \"paper\": \"rock\"\n",
    "}\n",
    "\n",
    "p_hand = str(input())\n",
    "\n",
    "while (p_hand != \"!exit\"):\n",
    "    c_hand = random.choice(valid_choice)\n",
    "    \n",
    "    if (p_hand in valid_choice):\n",
    "        if (c_hand == p_hand):\n",
    "            print(\"There is a draw (%s)\" % (c_hand))\n",
    "            score += 50\n",
    "            \n",
    "        elif (c_hand in p_win[p_hand]):\n",
    "            print(\"Well done. The computer chose %s and failed\" % (c_hand))\n",
    "            score += 100\n",
    "            \n",
    "        else:\n",
    "            print(\"Sorry, but the computer chose %s\" % (c_hand))\n",
    "    \n",
    "    elif (p_hand == \"!rating\"):\n",
    "        print(\"Your rating: %d\" % (score))\n",
    "    \n",
    "    else:\n",
    "        print(\"Invalid input\")\n",
    "    \n",
    "    p_hand = str(input())\n",
    "\n",
    "print(\"Bye!\")\n",
    "    "
   ]
  },
  {
   "cell_type": "code",
   "execution_count": 5,
   "metadata": {},
   "outputs": [
    {
     "name": "stdin",
     "output_type": "stream",
     "text": [
      "Enter your name:  Bob\n"
     ]
    },
    {
     "name": "stdout",
     "output_type": "stream",
     "text": [
      "Hello, Bob\n"
     ]
    },
    {
     "name": "stdin",
     "output_type": "stream",
     "text": [
      " \n"
     ]
    },
    {
     "name": "stdout",
     "output_type": "stream",
     "text": [
      "Okay, let's start\n"
     ]
    },
    {
     "name": "stdin",
     "output_type": "stream",
     "text": [
      " scissots\n"
     ]
    },
    {
     "name": "stdout",
     "output_type": "stream",
     "text": [
      "Invalid input\n"
     ]
    },
    {
     "name": "stdin",
     "output_type": "stream",
     "text": [
      " scissors\n"
     ]
    },
    {
     "name": "stdout",
     "output_type": "stream",
     "text": [
      "Sorry, but the computer chose rock\n"
     ]
    },
    {
     "name": "stdin",
     "output_type": "stream",
     "text": [
      " !exit\n"
     ]
    },
    {
     "name": "stdout",
     "output_type": "stream",
     "text": [
      "Bye!\n"
     ]
    }
   ],
   "source": [
    "import random\n",
    "\n",
    "boards = open(\"rating.txt\", \"r+\")\n",
    "\n",
    "ratings = {}\n",
    "\n",
    "for i in boards.readlines():\n",
    "    temp = i.split()\n",
    "    ratings[temp[0]] = int(temp[1])\n",
    "\n",
    "name = str(input(\"Enter your name: \"))\n",
    "score = ratings[name] if name in ratings.keys() else 0\n",
    "\n",
    "print(\"Hello, %s\" % (name))\n",
    "\n",
    "choices = str(input()).split(\",\")\n",
    "\n",
    "valid_choice = [\"paper\", \"scissors\", \"rock\"] if choices == [\"\"] else choices\n",
    "\n",
    "p_win = {\n",
    "    \"rock\": [\"fire\", \"scissors\", \"snake\", \"human\", \"tree\", \"wolf\", \"sponge\"],\n",
    "    \"fire\": [\"scissors\", \"snake\", \"human\", \"tree\", \"wolf\", \"sponge\", \"paper\"],\n",
    "    \"scissors\": [\"snake\", \"human\", \"tree\", \"wolf\", \"sponge\", \"paper\", \"air\"],\n",
    "    \"snake\": [\"human\", \"tree\", \"wolf\", \"sponge\", \"paper\", \"air\", \"water\"],\n",
    "    \"human\": [\"tree\", \"wolf\", \"sponge\", \"paper\", \"air\", \"water\", \"dragon\"],\n",
    "    \"tree\": [\"wolf\", \"sponge\", \"paper\", \"air\", \"water\", \"dragon\", \"devil\"],\n",
    "    \"wolf\": [\"sponge\", \"paper\", \"air\", \"water\", \"dragon\", \"devil\", \"lightning\"],\n",
    "    \"sponge\": [\"paper\", \"air\", \"water\", \"dragon\", \"devil\", \"lightning\", \"gun\"],\n",
    "    \"paper\": [\"air\", \"water\", \"dragon\", \"devil\", \"lightning\", \"gun\", \"rock\"],\n",
    "    \"air\": [\"water\", \"dragon\", \"devil\", \"lightning\", \"gun\", \"rock\", \"fire\"],\n",
    "    \"water\": [\"dragon\", \"devil\", \"lightning\", \"gun\", \"rock\", \"fire\", \"scissors\"],\n",
    "    \"dragon\": [\"devil\", \"lightning\", \"gun\", \"rock\", \"fire\", \"scissors\", \"snake\"],\n",
    "    \"devil\": [\"lightning\", \"gun\", \"rock\", \"fire\", \"scissors\", \"snake\", \"human\"],\n",
    "    \"lightning\": [\"gun\", \"rock\", \"fire\", \"scissors\", \"snake\", \"human\"],\n",
    "    \"gun\": [\"rock\", \"fire\", \"scissors\", \"snake\", \"human\", \"tree\", \"wolf\"]\n",
    "}\n",
    "\n",
    "print(\"Okay, let's start\")\n",
    "\n",
    "p_hand = str(input())\n",
    "\n",
    "while (p_hand != \"!exit\"):\n",
    "    c_hand = random.choice(valid_choice)\n",
    "    \n",
    "    if (p_hand in valid_choice):\n",
    "        if (c_hand == p_hand):\n",
    "            print(\"There is a draw (%s)\" % (c_hand))\n",
    "            score += 50\n",
    "            \n",
    "        elif (c_hand in p_win[p_hand]):\n",
    "            print(\"Well done. The computer chose %s and failed\" % (c_hand))\n",
    "            score += 100\n",
    "            \n",
    "        else:\n",
    "            print(\"Sorry, but the computer chose %s\" % (c_hand))\n",
    "    \n",
    "    elif (p_hand == \"!rating\"):\n",
    "        print(\"Your rating: %d\" % (score))\n",
    "    \n",
    "    else:\n",
    "        print(\"Invalid input\")\n",
    "    \n",
    "    p_hand = str(input())\n",
    "\n",
    "print(\"Bye!\")\n",
    "    "
   ]
  },
  {
   "cell_type": "code",
   "execution_count": null,
   "metadata": {},
   "outputs": [],
   "source": []
  }
 ],
 "metadata": {
  "kernelspec": {
   "display_name": "Python 3",
   "language": "python",
   "name": "python3"
  },
  "language_info": {
   "codemirror_mode": {
    "name": "ipython",
    "version": 3
   },
   "file_extension": ".py",
   "mimetype": "text/x-python",
   "name": "python",
   "nbconvert_exporter": "python",
   "pygments_lexer": "ipython3",
   "version": "3.6.9"
  }
 },
 "nbformat": 4,
 "nbformat_minor": 4
}
