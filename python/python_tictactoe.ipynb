{
 "cells": [
  {
   "cell_type": "code",
   "execution_count": 2,
   "metadata": {},
   "outputs": [
    {
     "name": "stdout",
     "output_type": "stream",
     "text": [
      "X O X\n",
      "O X O\n",
      "X O X\n"
     ]
    }
   ],
   "source": [
    "# write your code here\n",
    "print(\"X O X\")\n",
    "print(\"O X O\")\n",
    "print(\"X O X\")"
   ]
  },
  {
   "cell_type": "code",
   "execution_count": 33,
   "metadata": {},
   "outputs": [
    {
     "name": "stdin",
     "output_type": "stream",
     "text": [
      "Enter cells:  OO_XXX__O\n"
     ]
    },
    {
     "name": "stdout",
     "output_type": "stream",
     "text": [
      "---------\n",
      "| O O _ |\n",
      "| X X X |\n",
      "| _ _ O |\n",
      "---------\n"
     ]
    }
   ],
   "source": [
    "# write your code here\n",
    "cells = str(input(\"Enter cells: \"))\n",
    "\n",
    "x = 0\n",
    "\n",
    "print(\"---------\")\n",
    "for i in range(0, 3):\n",
    "    rows = \"| \"\n",
    "    for j in range(0, 3):\n",
    "        rows += cells[x] + \" \"\n",
    "        x += 1\n",
    "    \n",
    "    print(rows + \"|\")\n",
    "        \n",
    "print(\"---------\")"
   ]
  },
  {
   "cell_type": "code",
   "execution_count": 77,
   "metadata": {},
   "outputs": [
    {
     "name": "stdin",
     "output_type": "stream",
     "text": [
      "Enter cells:  XOXOXOXOX\n"
     ]
    },
    {
     "name": "stdout",
     "output_type": "stream",
     "text": [
      "---------\n",
      "| X O X |\n",
      "| O X O |\n",
      "| X O X |\n",
      "---------\n",
      "X wins\n"
     ]
    }
   ],
   "source": [
    "cells = str(input(\"Enter cells: \"))\n",
    "\n",
    "cell = []\n",
    "\n",
    "for i in range(0, 9, 3):\n",
    "    cell.append([cells[i] if cells[i] != \"_\" else \" \",\n",
    "                 cells[i + 1] if cells[i + 1] != \"_\" else \" \",\n",
    "                 cells[i + 2]  if cells[i + 2] != \"_\" else \" \"])\n",
    "    \n",
    "print(\"---------\")\n",
    "for i in range(0, 3):\n",
    "    rows = \"| \" + \" \".join(cell[i]) + \" |\"\n",
    "    \n",
    "    print(rows)\n",
    "        \n",
    "print(\"---------\")\n",
    "\n",
    "n_x = cells.count(\"X\")\n",
    "n_o = cells.count(\"O\")\n",
    "n_missed = cells.count(\"_\")\n",
    "\n",
    "x_win = False\n",
    "o_win = False\n",
    "    \n",
    "if (cell[0] == [\"X\"] * 3 or\n",
    "      cell[1] == [\"X\"] * 3 or\n",
    "      cell[2] == [\"X\"] * 3 or\n",
    "      [cell[i][0] for i in range(0, 3)] == [\"X\"] * 3 or\n",
    "      [cell[i][1] for i in range(0, 3)] == [\"X\"] * 3 or\n",
    "      [cell[i][2] for i in range(0, 3)] == [\"X\"] * 3 or\n",
    "      [cell[i][j] for i in range(0, 3) for j in range(0, 3) if i == j] == [\"X\"] * 3 or\n",
    "      [cell[2 - i][j] for i in range(0, 3) for j in range(0, 3) if i == j] == [\"X\"] * 3 or\n",
    "      [cell[i][j] for i in range(0, 3) for j in range(0, 3) if i == j] == [\"X\"] * 3\n",
    "     ):\n",
    "    x_win = True\n",
    "    \n",
    "if (cell[0] == [\"O\"] * 3 or\n",
    "      cell[1] == [\"O\"] * 3 or\n",
    "      cell[2] == [\"O\"] * 3 or\n",
    "      [cell[i][0] for i in range(0, 3)] == [\"O\"] * 3 or\n",
    "      [cell[i][1] for i in range(0, 3)] == [\"O\"] * 3 or\n",
    "      [cell[i][2] for i in range(0, 3)] == [\"O\"] * 3 or\n",
    "      [cell[i][j] for i in range(0, 3) for j in range(0, 3) if i == j] == [\"O\"] * 3 or\n",
    "      [cell[2 - i][j] for i in range(0, 3) for j in range(0, 3) if i == j] == [\"O\"] * 3 or\n",
    "      [cell[i][j] for i in range(0, 3) for j in range(0, 3) if i == j] == [\"O\"] * 3\n",
    "     ):\n",
    "    o_win = True\n",
    "\n",
    "if abs(n_x - n_o) > 1 or (x_win == True and o_win == True):\n",
    "    print(\"Impossible\")\n",
    "\n",
    "elif (x_win == False and o_win == False):\n",
    "    print(\"Draw\" if n_missed == 0 else \"Game not finished\")\n",
    "else:\n",
    "    print(\"X wins\" if x_win == True else \"O wins\")"
   ]
  },
  {
   "cell_type": "code",
   "execution_count": 5,
   "metadata": {},
   "outputs": [
    {
     "name": "stdin",
     "output_type": "stream",
     "text": [
      "Enter cells:  X________\n"
     ]
    },
    {
     "name": "stdout",
     "output_type": "stream",
     "text": [
      "---------\n",
      "| X     |\n",
      "|       |\n",
      "|       |\n",
      "---------\n"
     ]
    },
    {
     "name": "stdin",
     "output_type": "stream",
     "text": [
      "Enter the coordinates:  2 2\n"
     ]
    },
    {
     "name": "stdout",
     "output_type": "stream",
     "text": [
      "---------\n",
      "| X     |\n",
      "|   X   |\n",
      "|       |\n",
      "---------\n"
     ]
    }
   ],
   "source": [
    "def print_cells():\n",
    "    print(\"---------\")\n",
    "    for i in range(0, 3):\n",
    "        rows = \"| \" + \" \".join(cell[i]) + \" |\"\n",
    "        print(rows)\n",
    "    print(\"---------\")\n",
    "\n",
    "cells = str(input(\"Enter cells: \"))\n",
    "\n",
    "cell = []\n",
    "\n",
    "for i in range(0, 9, 3):\n",
    "    cell.append([cells[i] if cells[i] != \"_\" else \" \",\n",
    "                 cells[i + 1] if cells[i + 1] != \"_\" else \" \",\n",
    "                 cells[i + 2] if cells[i + 2] != \"_\" else \" \"])\n",
    "\n",
    "print_cells()\n",
    "\n",
    "coords = input(\"Enter the coordinates: \")\n",
    "\n",
    "finished = False\n",
    "\n",
    "while (not finished):\n",
    "    if coords[0].isnumeric() == True and coords[2].isnumeric() == True:\n",
    "        x, y = coords.split()\n",
    "        if int(x) > 3 or int(y) > 3:\n",
    "            print(\"Coordinates should be from 1 to 3!\")\n",
    "            coords = input(\"Enter the coordinates: \")\n",
    "        elif ((cell[3 - int(y)][int(x) - 1]) != \" \"):\n",
    "            print(\"This cell is occupied! Choose another one!\")\n",
    "            coords = input(\"Enter the coordinates: \")\n",
    "        else:\n",
    "            cell[3 - int(y)][int(x) - 1] = \"X\"\n",
    "            print_cells()\n",
    "            finished = True\n",
    "    else:\n",
    "        print(\"You should enter numbers!\")\n",
    "        coords = input(\"Enter the coordinates: \")\n",
    "\n",
    "        "
   ]
  },
  {
   "cell_type": "code",
   "execution_count": 12,
   "metadata": {},
   "outputs": [
    {
     "name": "stdout",
     "output_type": "stream",
     "text": [
      "---------\n",
      "|       |\n",
      "|       |\n",
      "|       |\n",
      "---------\n"
     ]
    },
    {
     "ename": "KeyboardInterrupt",
     "evalue": "Interrupted by user",
     "output_type": "error",
     "traceback": [
      "\u001b[0;31m---------------------------------------------------------------------------\u001b[0m",
      "\u001b[0;31mKeyboardInterrupt\u001b[0m                         Traceback (most recent call last)",
      "\u001b[0;32m<ipython-input-12-8b55675a2fa2>\u001b[0m in \u001b[0;36m<module>\u001b[0;34m\u001b[0m\n\u001b[1;32m     11\u001b[0m \u001b[0mprint_cells\u001b[0m\u001b[0;34m(\u001b[0m\u001b[0;34m)\u001b[0m\u001b[0;34m\u001b[0m\u001b[0;34m\u001b[0m\u001b[0m\n\u001b[1;32m     12\u001b[0m \u001b[0;34m\u001b[0m\u001b[0m\n\u001b[0;32m---> 13\u001b[0;31m \u001b[0mcoords\u001b[0m \u001b[0;34m=\u001b[0m \u001b[0minput\u001b[0m\u001b[0;34m(\u001b[0m\u001b[0;34m\"Enter the coordinates: \"\u001b[0m\u001b[0;34m)\u001b[0m\u001b[0;34m\u001b[0m\u001b[0;34m\u001b[0m\u001b[0m\n\u001b[0m\u001b[1;32m     14\u001b[0m \u001b[0;34m\u001b[0m\u001b[0m\n\u001b[1;32m     15\u001b[0m \u001b[0mfinished\u001b[0m \u001b[0;34m=\u001b[0m \u001b[0;32mFalse\u001b[0m\u001b[0;34m\u001b[0m\u001b[0;34m\u001b[0m\u001b[0m\n",
      "\u001b[0;32m~/.local/lib/python3.6/site-packages/ipykernel/kernelbase.py\u001b[0m in \u001b[0;36mraw_input\u001b[0;34m(self, prompt)\u001b[0m\n\u001b[1;32m    861\u001b[0m             \u001b[0mself\u001b[0m\u001b[0;34m.\u001b[0m\u001b[0m_parent_ident\u001b[0m\u001b[0;34m,\u001b[0m\u001b[0;34m\u001b[0m\u001b[0;34m\u001b[0m\u001b[0m\n\u001b[1;32m    862\u001b[0m             \u001b[0mself\u001b[0m\u001b[0;34m.\u001b[0m\u001b[0m_parent_header\u001b[0m\u001b[0;34m,\u001b[0m\u001b[0;34m\u001b[0m\u001b[0;34m\u001b[0m\u001b[0m\n\u001b[0;32m--> 863\u001b[0;31m             \u001b[0mpassword\u001b[0m\u001b[0;34m=\u001b[0m\u001b[0;32mFalse\u001b[0m\u001b[0;34m,\u001b[0m\u001b[0;34m\u001b[0m\u001b[0;34m\u001b[0m\u001b[0m\n\u001b[0m\u001b[1;32m    864\u001b[0m         )\n\u001b[1;32m    865\u001b[0m \u001b[0;34m\u001b[0m\u001b[0m\n",
      "\u001b[0;32m~/.local/lib/python3.6/site-packages/ipykernel/kernelbase.py\u001b[0m in \u001b[0;36m_input_request\u001b[0;34m(self, prompt, ident, parent, password)\u001b[0m\n\u001b[1;32m    902\u001b[0m             \u001b[0;32mexcept\u001b[0m \u001b[0mKeyboardInterrupt\u001b[0m\u001b[0;34m:\u001b[0m\u001b[0;34m\u001b[0m\u001b[0;34m\u001b[0m\u001b[0m\n\u001b[1;32m    903\u001b[0m                 \u001b[0;31m# re-raise KeyboardInterrupt, to truncate traceback\u001b[0m\u001b[0;34m\u001b[0m\u001b[0;34m\u001b[0m\u001b[0;34m\u001b[0m\u001b[0m\n\u001b[0;32m--> 904\u001b[0;31m                 \u001b[0;32mraise\u001b[0m \u001b[0mKeyboardInterrupt\u001b[0m\u001b[0;34m(\u001b[0m\u001b[0;34m\"Interrupted by user\"\u001b[0m\u001b[0;34m)\u001b[0m \u001b[0;32mfrom\u001b[0m \u001b[0;32mNone\u001b[0m\u001b[0;34m\u001b[0m\u001b[0;34m\u001b[0m\u001b[0m\n\u001b[0m\u001b[1;32m    905\u001b[0m             \u001b[0;32mexcept\u001b[0m \u001b[0mException\u001b[0m \u001b[0;32mas\u001b[0m \u001b[0me\u001b[0m\u001b[0;34m:\u001b[0m\u001b[0;34m\u001b[0m\u001b[0;34m\u001b[0m\u001b[0m\n\u001b[1;32m    906\u001b[0m                 \u001b[0mself\u001b[0m\u001b[0;34m.\u001b[0m\u001b[0mlog\u001b[0m\u001b[0;34m.\u001b[0m\u001b[0mwarning\u001b[0m\u001b[0;34m(\u001b[0m\u001b[0;34m\"Invalid Message:\"\u001b[0m\u001b[0;34m,\u001b[0m \u001b[0mexc_info\u001b[0m\u001b[0;34m=\u001b[0m\u001b[0;32mTrue\u001b[0m\u001b[0;34m)\u001b[0m\u001b[0;34m\u001b[0m\u001b[0;34m\u001b[0m\u001b[0m\n",
      "\u001b[0;31mKeyboardInterrupt\u001b[0m: Interrupted by user"
     ]
    }
   ],
   "source": [
    "def print_cells():\n",
    "    print(\"---------\")\n",
    "    for i in range(0, 3):\n",
    "        rows = \"| \" + \" \".join(cell[i]) + \" |\"\n",
    "        print(rows)\n",
    "    print(\"---------\")\n",
    "    \n",
    "cell = [[\" \", \" \", \" \"], [\" \", \" \", \" \"], [\" \", \" \", \" \"]]\n",
    "val_cell = [cell[i][j] != \" \" for i in range(0, 3) for j in range(0, 3)]\n",
    "\n",
    "print_cells()\n",
    "\n",
    "coords = input(\"Enter the coordinates: \")\n",
    "\n",
    "finished = False\n",
    "x_win = False\n",
    "o_win = False\n",
    "\n",
    "turn = \"X\"\n",
    "\n",
    "while (not finished == True and all(val_cell) == False):\n",
    "    if coords[0].isnumeric() == True and coords[2].isnumeric() == True:\n",
    "        x, y = coords.split()\n",
    "        if int(x) > 3 or int(y) > 3:\n",
    "            print(\"Coordinates should be from 1 to 3!\")\n",
    "        elif ((cell[3 - int(y)][int(x) - 1]) != \" \"):\n",
    "            print(\"This cell is occupied! Choose another one!\")\n",
    "        else:\n",
    "            cell[3 - int(y)][int(x) - 1] = turn\n",
    "            turn = \"X\" if turn == \"O\" else \"O\"\n",
    "            \n",
    "            print_cells()\n",
    "    \n",
    "            if (cell[0] == [\"X\"] * 3 or\n",
    "                  cell[1] == [\"X\"] * 3 or\n",
    "                  cell[2] == [\"X\"] * 3 or\n",
    "                  [cell[i][0] for i in range(0, 3)] == [\"X\"] * 3 or\n",
    "                  [cell[i][1] for i in range(0, 3)] == [\"X\"] * 3 or\n",
    "                  [cell[i][2] for i in range(0, 3)] == [\"X\"] * 3 or\n",
    "                  [cell[i][j] for i in range(0, 3) for j in range(0, 3) if i == j] == [\"X\"] * 3 or\n",
    "                  [cell[2 - i][j] for i in range(0, 3) for j in range(0, 3) if i == j] == [\"X\"] * 3 or\n",
    "                  [cell[i][j] for i in range(0, 3) for j in range(0, 3) if i == j] == [\"X\"] * 3\n",
    "                 ):\n",
    "                x_win = True\n",
    "                break\n",
    "\n",
    "            if (cell[0] == [\"O\"] * 3 or\n",
    "                  cell[1] == [\"O\"] * 3 or\n",
    "                  cell[2] == [\"O\"] * 3 or\n",
    "                  [cell[i][0] for i in range(0, 3)] == [\"O\"] * 3 or\n",
    "                  [cell[i][1] for i in range(0, 3)] == [\"O\"] * 3 or\n",
    "                  [cell[i][2] for i in range(0, 3)] == [\"O\"] * 3 or\n",
    "                  [cell[i][j] for i in range(0, 3) for j in range(0, 3) if i == j] == [\"O\"] * 3 or\n",
    "                  [cell[2 - i][j] for i in range(0, 3) for j in range(0, 3) if i == j] == [\"O\"] * 3 or\n",
    "                  [cell[i][j] for i in range(0, 3) for j in range(0, 3) if i == j] == [\"O\"] * 3\n",
    "                 ):\n",
    "                o_win = True\n",
    "                break\n",
    "                \n",
    "            val_cell = [cell[i][j] != \" \" for i in range(0, 3) for j in range(0, 3)]\n",
    "            print(val_cell)\n",
    "                \n",
    "    else:\n",
    "        print(\"You should enter numbers!\")\n",
    "    coords = input(\"Enter the coordinates: \")\n",
    "\n",
    "if (x_win == False and o_win == False):\n",
    "    print(\"Draw\")\n",
    "else:\n",
    "    print(\"X wins\" if x_win == True else \"O wins\")        "
   ]
  }
 ],
 "metadata": {
  "kernelspec": {
   "display_name": "Python 3",
   "language": "python",
   "name": "python3"
  },
  "language_info": {
   "codemirror_mode": {
    "name": "ipython",
    "version": 3
   },
   "file_extension": ".py",
   "mimetype": "text/x-python",
   "name": "python",
   "nbconvert_exporter": "python",
   "pygments_lexer": "ipython3",
   "version": "3.6.9"
  }
 },
 "nbformat": 4,
 "nbformat_minor": 4
}
