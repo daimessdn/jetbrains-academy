{
 "cells": [
  {
   "cell_type": "code",
   "execution_count": 1,
   "metadata": {},
   "outputs": [
    {
     "name": "stdout",
     "output_type": "stream",
     "text": [
      "H A N G M A N\n",
      "The game will be available soon.\n"
     ]
    }
   ],
   "source": [
    "# stage 1/8\n",
    "## https://hyperskill.org/projects/69/stages/372/implement\n",
    "\n",
    "# Write your code here\n",
    "print(\"H A N G M A N\")\n",
    "print(\"The game will be available soon.\")"
   ]
  },
  {
   "cell_type": "code",
   "execution_count": null,
   "metadata": {},
   "outputs": [],
   "source": [
    "# stage 2/8\n",
    "## https://hyperskill.org/projects/69/stages/373/implement\n",
    "\n",
    "# Write your code here\n",
    "print(\"H A N G M A N\")\n",
    "print(\"The game will be available soon.\")\n",
    "\n",
    "word = \"python\"\n",
    "guess = str(input())\n",
    "\n",
    "if guess == word:\n",
    "    print(\"You survived!\")\n",
    "else:\n",
    "    print(\"You lost!\")"
   ]
  }
 ],
 "metadata": {
  "kernelspec": {
   "display_name": "Python 3",
   "language": "python",
   "name": "python3"
  },
  "language_info": {
   "codemirror_mode": {
    "name": "ipython",
    "version": 3
   },
   "file_extension": ".py",
   "mimetype": "text/x-python",
   "name": "python",
   "nbconvert_exporter": "python",
   "pygments_lexer": "ipython3",
   "version": "3.6.9"
  }
 },
 "nbformat": 4,
 "nbformat_minor": 4
}
