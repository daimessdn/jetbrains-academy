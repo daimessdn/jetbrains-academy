{
 "cells": [
  {
   "cell_type": "code",
   "execution_count": 1,
   "metadata": {},
   "outputs": [
    {
     "name": "stdout",
     "output_type": "stream",
     "text": [
      "H A N G M A N\n",
      "The game will be available soon.\n"
     ]
    }
   ],
   "source": [
    "# stage 1/8\n",
    "## https://hyperskill.org/projects/69/stages/372/implement\n",
    "\n",
    "# Write your code here\n",
    "print(\"H A N G M A N\")\n",
    "print(\"The game will be available soon.\")"
   ]
  },
  {
   "cell_type": "code",
   "execution_count": 2,
   "metadata": {},
   "outputs": [
    {
     "name": "stdout",
     "output_type": "stream",
     "text": [
      "H A N G M A N\n",
      "The game will be available soon.\n"
     ]
    },
    {
     "name": "stdin",
     "output_type": "stream",
     "text": [
      " python\n"
     ]
    },
    {
     "name": "stdout",
     "output_type": "stream",
     "text": [
      "You survived!\n"
     ]
    }
   ],
   "source": [
    "# stage 2/8\n",
    "## https://hyperskill.org/projects/69/stages/373/implement\n",
    "\n",
    "# Write your code here\n",
    "print(\"H A N G M A N\")\n",
    "print(\"The game will be available soon.\")\n",
    "\n",
    "word = \"python\"\n",
    "guess = str(input())\n",
    "\n",
    "if guess == word:\n",
    "    print(\"You survived!\")\n",
    "else:\n",
    "    print(\"You lost!\")"
   ]
  },
  {
   "cell_type": "code",
   "execution_count": 7,
   "metadata": {},
   "outputs": [
    {
     "name": "stdout",
     "output_type": "stream",
     "text": [
      "H A N G M A N\n",
      "The game will be available soon.\n"
     ]
    },
    {
     "name": "stdin",
     "output_type": "stream",
     "text": [
      " python\n"
     ]
    },
    {
     "name": "stdout",
     "output_type": "stream",
     "text": [
      "You survived!\n"
     ]
    }
   ],
   "source": [
    "# Write your code here\n",
    "import random\n",
    "\n",
    "print(\"H A N G M A N\")\n",
    "print(\"The game will be available soon.\")\n",
    "\n",
    "words = [\"python\", \"java\", \"kotlin\", \"javascript\"]\n",
    "guess = str(input())\n",
    "\n",
    "if guess == random.choice(words):\n",
    "    print(\"You survived!\")\n",
    "else:\n",
    "    print(\"You lost!\")"
   ]
  },
  {
   "cell_type": "code",
   "execution_count": 13,
   "metadata": {},
   "outputs": [
    {
     "name": "stdout",
     "output_type": "stream",
     "text": [
      "H A N G M A N\n"
     ]
    },
    {
     "name": "stdin",
     "output_type": "stream",
     "text": [
      "Gues the word kot--- kotoba\n"
     ]
    },
    {
     "name": "stdout",
     "output_type": "stream",
     "text": [
      "You lost!\n"
     ]
    }
   ],
   "source": [
    "# Write your code here\n",
    "import random\n",
    "\n",
    "print(\"H A N G M A N\")\n",
    "\n",
    "words = [\"python\", \"java\", \"kotlin\", \"javascript\"]\n",
    "answer = random.choice(words)\n",
    "guess = str(input(\"Gues the word \" + answer[:3] + \"\".join([\"-\" for i in answer[3:]])))\n",
    "\n",
    "if guess == answer:\n",
    "    print(\"You survived!\")\n",
    "else:\n",
    "    print(\"You lost!\")"
   ]
  },
  {
   "cell_type": "code",
   "execution_count": 14,
   "metadata": {},
   "outputs": [
    {
     "name": "stdout",
     "output_type": "stream",
     "text": [
      "H A N G M A N\n",
      "\n",
      "------\n"
     ]
    },
    {
     "name": "stdin",
     "output_type": "stream",
     "text": [
      "Input a letter:  y\n"
     ]
    },
    {
     "name": "stdout",
     "output_type": "stream",
     "text": [
      "\n",
      "-y----\n"
     ]
    },
    {
     "name": "stdin",
     "output_type": "stream",
     "text": [
      "Input a letter:  h\n"
     ]
    },
    {
     "name": "stdout",
     "output_type": "stream",
     "text": [
      "\n",
      "-y-h--\n"
     ]
    },
    {
     "name": "stdin",
     "output_type": "stream",
     "text": [
      "Input a letter:  i\n"
     ]
    },
    {
     "name": "stdout",
     "output_type": "stream",
     "text": [
      "That letter doesn't appear in the word\n",
      "\n",
      "-y-h--\n"
     ]
    },
    {
     "name": "stdin",
     "output_type": "stream",
     "text": [
      "Input a letter:  p\n"
     ]
    },
    {
     "name": "stdout",
     "output_type": "stream",
     "text": [
      "\n",
      "py-h--\n"
     ]
    },
    {
     "name": "stdin",
     "output_type": "stream",
     "text": [
      "Input a letter:  t\n"
     ]
    },
    {
     "name": "stdout",
     "output_type": "stream",
     "text": [
      "\n",
      "pyth--\n"
     ]
    },
    {
     "name": "stdin",
     "output_type": "stream",
     "text": [
      "Input a letter:  o\n"
     ]
    },
    {
     "name": "stdout",
     "output_type": "stream",
     "text": [
      "\n",
      "pytho-\n"
     ]
    },
    {
     "name": "stdin",
     "output_type": "stream",
     "text": [
      "Input a letter:  n\n"
     ]
    },
    {
     "name": "stdout",
     "output_type": "stream",
     "text": [
      "\n",
      "python\n"
     ]
    },
    {
     "name": "stdin",
     "output_type": "stream",
     "text": [
      "Input a letter:  m\n"
     ]
    },
    {
     "name": "stdout",
     "output_type": "stream",
     "text": [
      "That letter doesn't appear in the word\n",
      "\n",
      "Thanks for playing!\n",
      "We'll see how well you did in the next stage\n"
     ]
    }
   ],
   "source": [
    "# Write your code here\n",
    "import random\n",
    "\n",
    "print(\"H A N G M A N\")\n",
    "\n",
    "words = [\"python\", \"java\", \"kotlin\", \"javascript\"]\n",
    "answer = random.choice(words)\n",
    "\n",
    "tries = 8\n",
    "guessed = set()\n",
    "guess = \"\"\n",
    "answer_wordset = set(answer)\n",
    "\n",
    "print()\n",
    "\n",
    "while tries > 0:\n",
    "    print(\"\".join([i if i in guessed else \"-\" for i in answer]))\n",
    "    guess = str(input(\"Input a letter: \"))\n",
    "    \n",
    "    if guess not in answer_wordset:\n",
    "        print(\"That letter doesn't appear in the word\")\n",
    "\n",
    "    print()\n",
    "    guessed.add(guess)\n",
    "    tries = tries - 1\n",
    "    \n",
    "print(\"Thanks for playing!\")\n",
    "print(\"We'll see how well you did in the next stage\")"
   ]
  },
  {
   "cell_type": "code",
   "execution_count": 15,
   "metadata": {},
   "outputs": [
    {
     "name": "stdout",
     "output_type": "stream",
     "text": [
      "H A N G M A N\n",
      "\n",
      "----\n"
     ]
    },
    {
     "name": "stdin",
     "output_type": "stream",
     "text": [
      "Input a letter:  j\n"
     ]
    },
    {
     "name": "stdout",
     "output_type": "stream",
     "text": [
      "\n",
      "j---\n"
     ]
    },
    {
     "name": "stdin",
     "output_type": "stream",
     "text": [
      "Input a letter:  i\n"
     ]
    },
    {
     "name": "stdout",
     "output_type": "stream",
     "text": [
      "That letter doesn't appear in the word\n",
      "\n",
      "j---\n"
     ]
    },
    {
     "name": "stdin",
     "output_type": "stream",
     "text": [
      "Input a letter:  i\n"
     ]
    },
    {
     "name": "stdout",
     "output_type": "stream",
     "text": [
      "That letter doesn't appear in the word\n",
      "\n",
      "j---\n"
     ]
    },
    {
     "name": "stdin",
     "output_type": "stream",
     "text": [
      "Input a letter:  g\n"
     ]
    },
    {
     "name": "stdout",
     "output_type": "stream",
     "text": [
      "That letter doesn't appear in the word\n",
      "\n",
      "j---\n"
     ]
    },
    {
     "name": "stdin",
     "output_type": "stream",
     "text": [
      "Input a letter:  a\n"
     ]
    },
    {
     "name": "stdout",
     "output_type": "stream",
     "text": [
      "\n",
      "ja-a\n"
     ]
    },
    {
     "name": "stdin",
     "output_type": "stream",
     "text": [
      "Input a letter:  v\n"
     ]
    },
    {
     "name": "stdout",
     "output_type": "stream",
     "text": [
      "java\n",
      "You guessed the word!\n",
      "You survived!\n"
     ]
    }
   ],
   "source": [
    "# Write your code here\n",
    "import random\n",
    "\n",
    "print(\"H A N G M A N\")\n",
    "\n",
    "words = [\"python\", \"java\", \"kotlin\", \"javascript\"]\n",
    "answer = random.choice(words)\n",
    "\n",
    "tries = 8\n",
    "guessed = set()\n",
    "guess = \"\"\n",
    "answer_wordset = set(answer)\n",
    "\n",
    "while tries > 0 and not answer_wordset.issubset(guessed):\n",
    "    print()\n",
    "\n",
    "    print(\"\".join([i if i in guessed else \"-\" for i in answer]))\n",
    "    guess = str(input(\"Input a letter: \"))\n",
    "    \n",
    "    if guess not in answer_wordset:\n",
    "        print(\"That letter doesn't appear in the word\")\n",
    "    elif guess in answer_wordset and guess in guessed:\n",
    "        print(\"No improvements\")\n",
    "\n",
    "    tries = tries - 1 if guess not in answer or guess in guessed else tries\n",
    "    guessed.add(guess)\n",
    "    \n",
    "print(\"You lost!\" if not answer_wordset.issubset(guessed) else answer + \"\\nYou guessed the word!\\nYou survived!\")"
   ]
  },
  {
   "cell_type": "code",
   "execution_count": 17,
   "metadata": {},
   "outputs": [
    {
     "name": "stdout",
     "output_type": "stream",
     "text": [
      "H A N G M A N\n",
      "\n",
      "----------\n"
     ]
    },
    {
     "name": "stdin",
     "output_type": "stream",
     "text": [
      "Input a letter:  j\n"
     ]
    },
    {
     "name": "stdout",
     "output_type": "stream",
     "text": [
      "\n",
      "j---------\n"
     ]
    },
    {
     "name": "stdin",
     "output_type": "stream",
     "text": [
      "Input a letter:  a\n"
     ]
    },
    {
     "name": "stdout",
     "output_type": "stream",
     "text": [
      "\n",
      "ja-a------\n"
     ]
    },
    {
     "name": "stdin",
     "output_type": "stream",
     "text": [
      "Input a letter:  v\n"
     ]
    },
    {
     "name": "stdout",
     "output_type": "stream",
     "text": [
      "\n",
      "java------\n"
     ]
    },
    {
     "name": "stdin",
     "output_type": "stream",
     "text": [
      "Input a letter:  s\n"
     ]
    },
    {
     "name": "stdout",
     "output_type": "stream",
     "text": [
      "\n",
      "javas-----\n"
     ]
    },
    {
     "name": "stdin",
     "output_type": "stream",
     "text": [
      "Input a letter:  c\n"
     ]
    },
    {
     "name": "stdout",
     "output_type": "stream",
     "text": [
      "\n",
      "javasc----\n"
     ]
    },
    {
     "name": "stdin",
     "output_type": "stream",
     "text": [
      "Input a letter:  r\n"
     ]
    },
    {
     "name": "stdout",
     "output_type": "stream",
     "text": [
      "\n",
      "javascr---\n"
     ]
    },
    {
     "name": "stdin",
     "output_type": "stream",
     "text": [
      "Input a letter:  i\n"
     ]
    },
    {
     "name": "stdout",
     "output_type": "stream",
     "text": [
      "\n",
      "javascri--\n"
     ]
    },
    {
     "name": "stdin",
     "output_type": "stream",
     "text": [
      "Input a letter:  p\n"
     ]
    },
    {
     "name": "stdout",
     "output_type": "stream",
     "text": [
      "\n",
      "javascrip-\n"
     ]
    },
    {
     "name": "stdin",
     "output_type": "stream",
     "text": [
      "Input a letter:  t\n"
     ]
    },
    {
     "name": "stdout",
     "output_type": "stream",
     "text": [
      "\n",
      "You guessed the word javascript!\n",
      "You survived!\n"
     ]
    }
   ],
   "source": [
    "# Write your code here\n",
    "import random\n",
    "\n",
    "print(\"H A N G M A N\")\n",
    "\n",
    "words = [\"python\", \"java\", \"kotlin\", \"javascript\"]\n",
    "answer = random.choice(words)\n",
    "\n",
    "tries = 8\n",
    "guessed = set()\n",
    "guess = \"\"\n",
    "answer_wordset = set(answer)\n",
    "\n",
    "while tries > 0 and not answer_wordset.issubset(guessed):\n",
    "    print()\n",
    "\n",
    "    print(\"\".join([i if i in guessed else \"-\" for i in answer]))\n",
    "    guess = str(input(\"Input a letter: \"))\n",
    "    \n",
    "    if guess not in answer_wordset:\n",
    "        print(\"That letter doesn't appear in the word\")\n",
    "    elif guess in answer_wordset and guess in guessed:\n",
    "        print(\"You've already guessed this letter\")\n",
    "    elif not guess.islower():\n",
    "        print(\"Please enter a lowercase English letter\")\n",
    "    elif len(guess) != 1:\n",
    "        print(\"You should input a single letter\")\n",
    "\n",
    "    tries = tries - 1 if guess not in answer and guess.islower() and len(guess) == 1 else tries\n",
    "    guessed.add(guess)\n",
    "    \n",
    "print(\"You lost!\" if not answer_wordset.issubset(guessed) else \"\\nYou guessed the word \" + answer + \"!\\nYou survived!\")"
   ]
  },
  {
   "cell_type": "code",
   "execution_count": 18,
   "metadata": {},
   "outputs": [
    {
     "name": "stdout",
     "output_type": "stream",
     "text": [
      "H A N G M A N\n",
      "\n",
      "----\n"
     ]
    },
    {
     "name": "stdin",
     "output_type": "stream",
     "text": [
      "Input a letter:  j\n"
     ]
    },
    {
     "name": "stdout",
     "output_type": "stream",
     "text": [
      "\n",
      "j---\n"
     ]
    },
    {
     "name": "stdin",
     "output_type": "stream",
     "text": [
      "Input a letter:  a\n"
     ]
    },
    {
     "name": "stdout",
     "output_type": "stream",
     "text": [
      "\n",
      "ja-a\n"
     ]
    },
    {
     "name": "stdin",
     "output_type": "stream",
     "text": [
      "Input a letter:  v\n"
     ]
    },
    {
     "name": "stdout",
     "output_type": "stream",
     "text": [
      "You guessed the word java!\n",
      "You survived!\n"
     ]
    }
   ],
   "source": [
    "# Write your code here\n",
    "import random\n",
    "\n",
    "print(\"H A N G M A N\")\n",
    "\n",
    "words = [\"python\", \"java\", \"kotlin\", \"javascript\"]\n",
    "answer = random.choice(words)\n",
    "\n",
    "tries = 8\n",
    "guessed = set()\n",
    "guess = \"\"\n",
    "answer_wordset = set(answer)\n",
    "\n",
    "while tries > 0 and not answer_wordset.issubset(guessed):\n",
    "    print()\n",
    "\n",
    "    print(\"\".join([i if i in guessed else \"-\" for i in answer]))\n",
    "    guess = str(input(\"Input a letter: \"))\n",
    "    \n",
    "    if len(guess) != 1:\n",
    "        print(\"You should input a single letter\")\n",
    "    elif guess in guessed:\n",
    "        print(\"You've already guessed this letter\")\n",
    "    elif not guess.islower():\n",
    "        print(\"Please enter a lowercase English letter\")\n",
    "    elif guess not in answer_wordset and guess not in guessed:\n",
    "        print(\"That letter doesn't appear in the word\")\n",
    "        tries -= 1\n",
    "\n",
    "    guessed.add(guess)\n",
    "    \n",
    "print(\"You lost!\" if not answer_wordset.issubset(guessed) else \"You guessed the word \" + answer + \"!\\nYou survived!\")"
   ]
  },
  {
   "cell_type": "code",
   "execution_count": 19,
   "metadata": {},
   "outputs": [
    {
     "name": "stdout",
     "output_type": "stream",
     "text": [
      "H A N G M A N\n"
     ]
    },
    {
     "name": "stdin",
     "output_type": "stream",
     "text": [
      "Type \"play\" to play the game, \"exit\" to quit:  play\n"
     ]
    },
    {
     "name": "stdout",
     "output_type": "stream",
     "text": [
      "\n",
      "------\n"
     ]
    },
    {
     "name": "stdin",
     "output_type": "stream",
     "text": [
      "Input a letter:  a\n"
     ]
    },
    {
     "name": "stdout",
     "output_type": "stream",
     "text": [
      "That letter doesn't appear in the word\n",
      "\n",
      "------\n"
     ]
    },
    {
     "name": "stdin",
     "output_type": "stream",
     "text": [
      "Input a letter:  k\n"
     ]
    },
    {
     "name": "stdout",
     "output_type": "stream",
     "text": [
      "That letter doesn't appear in the word\n",
      "\n",
      "------\n"
     ]
    },
    {
     "name": "stdin",
     "output_type": "stream",
     "text": [
      "Input a letter:  o\n"
     ]
    },
    {
     "name": "stdout",
     "output_type": "stream",
     "text": [
      "\n",
      "----o-\n"
     ]
    },
    {
     "name": "stdin",
     "output_type": "stream",
     "text": [
      "Input a letter:  \n"
     ]
    },
    {
     "name": "stdout",
     "output_type": "stream",
     "text": [
      "You should input a single letter\n",
      "\n",
      "----o-\n"
     ]
    },
    {
     "name": "stdin",
     "output_type": "stream",
     "text": [
      "Input a letter:  \n"
     ]
    },
    {
     "name": "stdout",
     "output_type": "stream",
     "text": [
      "You should input a single letter\n",
      "\n",
      "----o-\n"
     ]
    },
    {
     "name": "stdin",
     "output_type": "stream",
     "text": [
      "Input a letter:  y\n"
     ]
    },
    {
     "name": "stdout",
     "output_type": "stream",
     "text": [
      "\n",
      "-y--o-\n"
     ]
    },
    {
     "name": "stdin",
     "output_type": "stream",
     "text": [
      "Input a letter:  p\n"
     ]
    },
    {
     "name": "stdout",
     "output_type": "stream",
     "text": [
      "\n",
      "py--o-\n"
     ]
    },
    {
     "name": "stdin",
     "output_type": "stream",
     "text": [
      "Input a letter:  t\n"
     ]
    },
    {
     "name": "stdout",
     "output_type": "stream",
     "text": [
      "\n",
      "pyt-o-\n"
     ]
    },
    {
     "name": "stdin",
     "output_type": "stream",
     "text": [
      "Input a letter:  h\n"
     ]
    },
    {
     "name": "stdout",
     "output_type": "stream",
     "text": [
      "\n",
      "pytho-\n"
     ]
    },
    {
     "name": "stdin",
     "output_type": "stream",
     "text": [
      "Input a letter:  n\n"
     ]
    },
    {
     "name": "stdout",
     "output_type": "stream",
     "text": [
      "You guessed the word python!\n",
      "You survived!\n"
     ]
    },
    {
     "name": "stdin",
     "output_type": "stream",
     "text": [
      "\n",
      "Type \"play\" to play the game, \"exit\" to quit:  play\n"
     ]
    },
    {
     "name": "stdout",
     "output_type": "stream",
     "text": [
      "\n",
      "----------\n"
     ]
    },
    {
     "name": "stdin",
     "output_type": "stream",
     "text": [
      "Input a letter:  i\n"
     ]
    },
    {
     "name": "stdout",
     "output_type": "stream",
     "text": [
      "\n",
      "-------i--\n"
     ]
    },
    {
     "name": "stdin",
     "output_type": "stream",
     "text": [
      "Input a letter:  p\n"
     ]
    },
    {
     "name": "stdout",
     "output_type": "stream",
     "text": [
      "\n",
      "-------ip-\n"
     ]
    },
    {
     "name": "stdin",
     "output_type": "stream",
     "text": [
      "Input a letter:  t\n"
     ]
    },
    {
     "name": "stdout",
     "output_type": "stream",
     "text": [
      "\n",
      "-------ipt\n"
     ]
    },
    {
     "name": "stdin",
     "output_type": "stream",
     "text": [
      "Input a letter:  a\n"
     ]
    },
    {
     "name": "stdout",
     "output_type": "stream",
     "text": [
      "\n",
      "-a-a---ipt\n"
     ]
    },
    {
     "name": "stdin",
     "output_type": "stream",
     "text": [
      "Input a letter:  v\n"
     ]
    },
    {
     "name": "stdout",
     "output_type": "stream",
     "text": [
      "\n",
      "-ava---ipt\n"
     ]
    },
    {
     "name": "stdin",
     "output_type": "stream",
     "text": [
      "Input a letter:  j\n"
     ]
    },
    {
     "name": "stdout",
     "output_type": "stream",
     "text": [
      "\n",
      "java---ipt\n"
     ]
    },
    {
     "name": "stdin",
     "output_type": "stream",
     "text": [
      "Input a letter:  s\n"
     ]
    },
    {
     "name": "stdout",
     "output_type": "stream",
     "text": [
      "\n",
      "javas--ipt\n"
     ]
    },
    {
     "name": "stdin",
     "output_type": "stream",
     "text": [
      "Input a letter:  c\n"
     ]
    },
    {
     "name": "stdout",
     "output_type": "stream",
     "text": [
      "\n",
      "javasc-ipt\n"
     ]
    },
    {
     "name": "stdin",
     "output_type": "stream",
     "text": [
      "Input a letter:  r\n"
     ]
    },
    {
     "name": "stdout",
     "output_type": "stream",
     "text": [
      "You guessed the word javascript!\n",
      "You survived!\n"
     ]
    },
    {
     "name": "stdin",
     "output_type": "stream",
     "text": [
      "\n",
      "Type \"play\" to play the game, \"exit\" to quit:  exit\n"
     ]
    }
   ],
   "source": [
    "# Write your code here\n",
    "import random\n",
    "\n",
    "print(\"H A N G M A N\")\n",
    "\n",
    "play = str(input(\"Type \\\"play\\\" to play the game, \\\"exit\\\" to quit: \"))\n",
    "\n",
    "while (play != \"exit\"):\n",
    "    words = [\"python\", \"java\", \"kotlin\", \"javascript\"]\n",
    "    answer = random.choice(words)\n",
    "    \n",
    "    tries = 8\n",
    "    guessed = set()\n",
    "    guess = \"\"\n",
    "    answer_wordset = set(answer)\n",
    "    \n",
    "    while tries > 0 and not answer_wordset.issubset(guessed):\n",
    "        print()\n",
    "\n",
    "        print(\"\".join([i if i in guessed else \"-\" for i in answer]))\n",
    "        guess = str(input(\"Input a letter: \"))\n",
    "        \n",
    "        if len(guess) != 1:\n",
    "            print(\"You should input a single letter\")\n",
    "        elif guess in guessed:\n",
    "            print(\"You've already guessed this letter\")\n",
    "        elif not guess.islower():\n",
    "            print(\"Please enter a lowercase English letter\")\n",
    "        elif guess not in answer_wordset and guess not in guessed:\n",
    "            print(\"That letter doesn't appear in the word\")\n",
    "            tries -= 1\n",
    "\n",
    "        guessed.add(guess)\n",
    "        \n",
    "    print(\"You lost!\" if not answer_wordset.issubset(guessed) else \"You guessed the word \" + answer + \"!\\nYou survived!\")\n",
    "    \n",
    "    play = str(input(\"\\nType \\\"play\\\" to play the game, \\\"exit\\\" to quit: \"))"
   ]
  },
  {
   "cell_type": "code",
   "execution_count": null,
   "metadata": {},
   "outputs": [],
   "source": [
    "# Write your code here\n",
    "import random\n",
    "\n",
    "print(\"H A N G M A N\")\n",
    "\n",
    "play = str(input(\"Type \\\"play\\\" to play the game, \\\"exit\\\" to quit: \"))\n",
    "\n",
    "while (play == \"play\"):\n",
    "    words = [\"python\", \"java\", \"kotlin\", \"javascript\"]\n",
    "    answer = random.choice(words)\n",
    "    \n",
    "    tries = 8\n",
    "    guessed = set()\n",
    "    guess = \"\"\n",
    "    answer_wordset = set(answer)\n",
    "    \n",
    "    while tries > 0 and not answer_wordset.issubset(guessed):\n",
    "        print()\n",
    "\n",
    "        print(\"\".join([i if i in guessed else \"-\" for i in answer]))\n",
    "        guess = str(input(\"Input a letter: \"))\n",
    "        \n",
    "        if len(guess) != 1:\n",
    "            print(\"You should input a single letter\")\n",
    "        elif guess in guessed:\n",
    "            print(\"You've already guessed this letter\")\n",
    "        elif not guess.islower():\n",
    "            print(\"Please enter a lowercase English letter\")\n",
    "        elif guess not in answer_wordset and guess not in guessed:\n",
    "            print(\"That letter doesn't appear in the word\")\n",
    "            tries -= 1\n",
    "\n",
    "        guessed.add(guess)\n",
    "        \n",
    "    print(\"You lost!\" if not answer_wordset.issubset(guessed) else \"You guessed the word \" + answer + \"!\\nYou survived!\")\n",
    "    \n",
    "    play = str(input(\"\\nType \\\"play\\\" to play the game, \\\"exit\\\" to quit: \"))"
   ]
  }
 ],
 "metadata": {
  "kernelspec": {
   "display_name": "Python 3",
   "language": "python",
   "name": "python3"
  },
  "language_info": {
   "codemirror_mode": {
    "name": "ipython",
    "version": 3
   },
   "file_extension": ".py",
   "mimetype": "text/x-python",
   "name": "python",
   "nbconvert_exporter": "python",
   "pygments_lexer": "ipython3",
   "version": "3.6.9"
  }
 },
 "nbformat": 4,
 "nbformat_minor": 4
}
